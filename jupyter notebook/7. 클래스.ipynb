{
 "cells": [
  {
   "cell_type": "markdown",
   "id": "e1cbb585-4552-4bde-8491-50f3ba66a0db",
   "metadata": {},
   "source": [
    "# 클래스는 1개 이상의 함수와 변수로 정의됨 \n",
    "# 상속 가능 (재사용 가능)"
   ]
  },
  {
   "cell_type": "code",
   "execution_count": null,
   "id": "e1c39eab-aa8b-4e40-a4bb-471ed3538a78",
   "metadata": {},
   "outputs": [],
   "source": [
    "class cexam:\n",
    "    def fsam(self):\n",
    "        self.text = '멤버 함수(메소드)'\n",
    "        print(self.text)"
   ]
  },
  {
   "cell_type": "code",
   "execution_count": 4,
   "id": "7627e78b-e0ee-4c59-a388-a1846bb208cb",
   "metadata": {},
   "outputs": [],
   "source": [
    "ca = cexam()"
   ]
  },
  {
   "cell_type": "code",
   "execution_count": 5,
   "id": "a5fa9735-ce1d-411f-a150-abf35048dd07",
   "metadata": {},
   "outputs": [
    {
     "name": "stdout",
     "output_type": "stream",
     "text": [
      "<__main__.cexam object at 0x0000022605F89E50>\n"
     ]
    }
   ],
   "source": [
    "print(ca)"
   ]
  },
  {
   "cell_type": "code",
   "execution_count": 6,
   "id": "9baf03c9-0bad-43a9-9fc1-1d9a4d44e3ad",
   "metadata": {},
   "outputs": [
    {
     "name": "stdout",
     "output_type": "stream",
     "text": [
      "멤버 함수(메소드)\n"
     ]
    }
   ],
   "source": [
    "ca.fsam()"
   ]
  },
  {
   "cell_type": "code",
   "execution_count": 7,
   "id": "d6345c86-de6e-4384-b5bc-4c5db8b786ee",
   "metadata": {},
   "outputs": [],
   "source": [
    "class cexam():\n",
    "    def fsama(self):\n",
    "        self.text = '멤버 함수(메소드)'\n",
    "        print(self.text)\n",
    "    \n",
    "    def fsamb(self, pa):\n",
    "        self.x = pa\n",
    "        print('멤버변수x는 ', self.x)"
   ]
  },
  {
   "cell_type": "code",
   "execution_count": 8,
   "id": "960f4abd-cac8-4d35-9a26-e3696907f57f",
   "metadata": {},
   "outputs": [],
   "source": [
    "ca = cexam()   #객체 생성 "
   ]
  },
  {
   "cell_type": "code",
   "execution_count": 9,
   "id": "6635c366-7a9f-471c-af84-23f48c632c20",
   "metadata": {},
   "outputs": [
    {
     "name": "stdout",
     "output_type": "stream",
     "text": [
      "멤버 함수(메소드)\n"
     ]
    }
   ],
   "source": [
    "ca.fsama()       #생성된 객체.멤버 함수 ()   - 함수를 실행 "
   ]
  },
  {
   "cell_type": "code",
   "execution_count": 11,
   "id": "2a02a219-5434-444b-9685-14820654cd1d",
   "metadata": {},
   "outputs": [
    {
     "name": "stdout",
     "output_type": "stream",
     "text": [
      "멤버변수x는  10\n"
     ]
    }
   ],
   "source": [
    "ca.fsamb(10)"
   ]
  },
  {
   "cell_type": "markdown",
   "id": "59e68ea3-5aee-41ff-b8c2-184901fe8130",
   "metadata": {},
   "source": [
    "## 초기 메소드 __INIT__"
   ]
  },
  {
   "cell_type": "code",
   "execution_count": 11,
   "id": "0e7c73ae-8c29-488a-92f0-a265e36c9301",
   "metadata": {},
   "outputs": [],
   "source": [
    "class cexam():\n",
    "    def __init__(self, pa):\n",
    "        self.x = pa\n",
    "        print('멤버 변수 x는 ', self.x)\n",
    "    def fsam(self):\n",
    "        self.text = '멤버 함수(메소드)'\n",
    "        print(self.text)  "
   ]
  },
  {
   "cell_type": "code",
   "execution_count": 12,
   "id": "2e37bf7a-303b-4a94-86b9-10b9c61f27da",
   "metadata": {},
   "outputs": [
    {
     "name": "stdout",
     "output_type": "stream",
     "text": [
      "멤버 변수 x는  10\n"
     ]
    }
   ],
   "source": [
    "ca = cexam(10)   #객체 생성과 동시에 10값을 __init__(pa)에 전달 "
   ]
  },
  {
   "cell_type": "code",
   "execution_count": 13,
   "id": "84f94bfa-9739-42c4-be64-aa9c42f9b840",
   "metadata": {},
   "outputs": [
    {
     "name": "stdout",
     "output_type": "stream",
     "text": [
      "멤버 함수(메소드)\n"
     ]
    }
   ],
   "source": [
    "ca.fsam()"
   ]
  },
  {
   "cell_type": "code",
   "execution_count": 6,
   "id": "4c063dfa-bef9-4a37-8fb5-c64a2d62b685",
   "metadata": {},
   "outputs": [
    {
     "data": {
      "text/plain": [
       "10"
      ]
     },
     "execution_count": 6,
     "metadata": {},
     "output_type": "execute_result"
    }
   ],
   "source": [
    "ca.x"
   ]
  },
  {
   "cell_type": "code",
   "execution_count": 8,
   "id": "17736c58-dd6e-4734-95d0-b3782d48cab8",
   "metadata": {},
   "outputs": [
    {
     "name": "stdout",
     "output_type": "stream",
     "text": [
      "멤버 변수 x는  30\n"
     ]
    }
   ],
   "source": [
    "cb = cexam(30)"
   ]
  },
  {
   "cell_type": "code",
   "execution_count": 9,
   "id": "1e1baedd-c440-46ae-b28a-a07491e2a7b2",
   "metadata": {},
   "outputs": [
    {
     "data": {
      "text/plain": [
       "30"
      ]
     },
     "execution_count": 9,
     "metadata": {},
     "output_type": "execute_result"
    }
   ],
   "source": [
    "cb.x  #ca.x 하고 다른 변수 "
   ]
  },
  {
   "cell_type": "markdown",
   "id": "97bad179-ebde-4e52-acc8-f684260e4092",
   "metadata": {},
   "source": [
    "## self 의 의미 "
   ]
  },
  {
   "cell_type": "code",
   "execution_count": 30,
   "id": "154db145-e2d1-4d98-85ce-6a0bdc78effa",
   "metadata": {},
   "outputs": [],
   "source": [
    "class cexam():\n",
    "    def __init__(self, pa, pb):\n",
    "        self.x = pa\n",
    "        y = pb\n",
    "        print('멤버 변수 x는 ', self.x)\n",
    "        print('변수 y는 ', y)\n",
    "        \n",
    "    def fsam(self):\n",
    "        self.text = '멤버 함수(메소드)'\n",
    "        print(self.text)  \n",
    "    def fsamb(self):       #self라는 멤버 면수가 없는 것 \n",
    "        print('멤버 함수가 아니다.') "
   ]
  },
  {
   "cell_type": "code",
   "execution_count": 31,
   "id": "d1950ecf-a7f6-44bc-adc0-33d39a735198",
   "metadata": {},
   "outputs": [
    {
     "name": "stdout",
     "output_type": "stream",
     "text": [
      "멤버 변수 x는  10\n",
      "변수 y는  5\n"
     ]
    }
   ],
   "source": [
    "ca = cexam(10,5)"
   ]
  },
  {
   "cell_type": "code",
   "execution_count": 32,
   "id": "d09e0094-f6fd-42a4-8bce-1fc8f83fcba3",
   "metadata": {},
   "outputs": [
    {
     "name": "stdout",
     "output_type": "stream",
     "text": [
      "멤버 함수(메소드)\n"
     ]
    }
   ],
   "source": [
    "ca.fsam()"
   ]
  },
  {
   "cell_type": "code",
   "execution_count": 33,
   "id": "d27ab107-1a28-49e3-82e6-2f99b4b5efb5",
   "metadata": {},
   "outputs": [
    {
     "name": "stdout",
     "output_type": "stream",
     "text": [
      "멤버 함수가 아니다.\n"
     ]
    }
   ],
   "source": [
    "ca.fsamb()"
   ]
  },
  {
   "cell_type": "markdown",
   "id": "1d0f35f1-4d7b-40f0-b52f-3b8d8aa3976b",
   "metadata": {},
   "source": [
    "## 파이썬에서 변수와 기억장소(메모리) 할당 "
   ]
  },
  {
   "cell_type": "code",
   "execution_count": 34,
   "id": "198efd74-3f64-461e-bb69-5cb6ee387eb3",
   "metadata": {},
   "outputs": [],
   "source": [
    "class Calcurator:\n",
    "    def setinit(self):\n",
    "        self.result = 0\n",
    "    def adder(self,num):\n",
    "        self.result = self.result + num\n",
    "        return self.result"
   ]
  },
  {
   "cell_type": "code",
   "execution_count": 35,
   "id": "0ef24d24-478d-4893-9005-5c2ccbdf84e4",
   "metadata": {},
   "outputs": [],
   "source": [
    "cal1 = Calcurator()"
   ]
  },
  {
   "cell_type": "code",
   "execution_count": 36,
   "id": "e47db0b1-d5db-4ec5-8dd1-593b24fcfc10",
   "metadata": {},
   "outputs": [],
   "source": [
    "cal1.setinit()"
   ]
  },
  {
   "cell_type": "code",
   "execution_count": 37,
   "id": "b731de1f-fd19-45d5-8ffa-492c4f59df25",
   "metadata": {},
   "outputs": [
    {
     "name": "stdout",
     "output_type": "stream",
     "text": [
      "0\n"
     ]
    }
   ],
   "source": [
    "print(cal1.result)"
   ]
  },
  {
   "cell_type": "code",
   "execution_count": 39,
   "id": "8c917fde-3a52-4dd4-85c4-d5d9ea3c14c4",
   "metadata": {},
   "outputs": [],
   "source": [
    "cal2 = Calcurator()\n",
    "cal2.setinit()"
   ]
  },
  {
   "cell_type": "code",
   "execution_count": 43,
   "id": "8613a619-f979-4aaf-8142-dbb16422b21d",
   "metadata": {},
   "outputs": [
    {
     "name": "stdout",
     "output_type": "stream",
     "text": [
      "0\n",
      "0\n"
     ]
    }
   ],
   "source": [
    "print(cal1.result)\n",
    "print(cal2.result)"
   ]
  },
  {
   "cell_type": "code",
   "execution_count": 45,
   "id": "0d60faed-e2f3-47d4-a949-838f6ce522d9",
   "metadata": {},
   "outputs": [
    {
     "name": "stdout",
     "output_type": "stream",
     "text": [
      "3\n",
      "4\n"
     ]
    }
   ],
   "source": [
    "print(cal1.adder(3))\n",
    "print(cal2.adder(4))"
   ]
  },
  {
   "cell_type": "code",
   "execution_count": 46,
   "id": "71ac4299-d21b-4385-8957-1a5e410cb9cd",
   "metadata": {},
   "outputs": [
    {
     "name": "stdout",
     "output_type": "stream",
     "text": [
      "3\n",
      "4\n"
     ]
    }
   ],
   "source": [
    "print(cal1.result)\n",
    "print(cal2.result)"
   ]
  },
  {
   "cell_type": "code",
   "execution_count": 47,
   "id": "9aa8d851-13f3-444f-88c1-cbe2a249ae75",
   "metadata": {},
   "outputs": [
    {
     "name": "stdout",
     "output_type": "stream",
     "text": [
      "6\n",
      "11\n"
     ]
    }
   ],
   "source": [
    "print(cal1.adder(3))\n",
    "print(cal2.adder(7))"
   ]
  },
  {
   "cell_type": "code",
   "execution_count": 49,
   "id": "cd514c41-a712-4b86-9efe-efd9ebf527ee",
   "metadata": {},
   "outputs": [
    {
     "name": "stdout",
     "output_type": "stream",
     "text": [
      "10\n",
      "20\n"
     ]
    }
   ],
   "source": [
    "cal3 =Calcurator()\n",
    "cal3.setinit()\n",
    "print(cal3.adder(10))\n",
    "print(cal3.adder(10))"
   ]
  },
  {
   "cell_type": "code",
   "execution_count": 50,
   "id": "c2527116-7608-4ae6-bf58-2a61acc9c0fd",
   "metadata": {},
   "outputs": [
    {
     "name": "stdout",
     "output_type": "stream",
     "text": [
      "6\n",
      "11\n"
     ]
    }
   ],
   "source": [
    "print(cal1.result)\n",
    "print(cal2.result)"
   ]
  },
  {
   "cell_type": "code",
   "execution_count": null,
   "id": "b100be11-b51d-4ba1-900f-c1fdd3180b47",
   "metadata": {},
   "outputs": [],
   "source": []
  },
  {
   "cell_type": "markdown",
   "id": "0b4c7d41-681e-4f64-b239-df2f8e2abe2d",
   "metadata": {},
   "source": [
    "## __init__ 메소드는 객체의 변수 값을 초기화"
   ]
  },
  {
   "cell_type": "code",
   "execution_count": 52,
   "id": "04f93c78-4dd7-4842-8897-639a9aaa602d",
   "metadata": {},
   "outputs": [],
   "source": [
    "class Calcurator:\n",
    "    def __init__(self):\n",
    "        self.result = 0\n",
    "    def adder(self,num):\n",
    "        self.result = self.result + num\n",
    "        return self.result"
   ]
  },
  {
   "cell_type": "code",
   "execution_count": 53,
   "id": "6b4bb592-cfed-4c7c-a551-3ece7a9aa80e",
   "metadata": {},
   "outputs": [
    {
     "data": {
      "text/plain": [
       "10"
      ]
     },
     "execution_count": 53,
     "metadata": {},
     "output_type": "execute_result"
    }
   ],
   "source": [
    "cal5 =Calcurator()\n",
    "cal5.adder(10)"
   ]
  },
  {
   "cell_type": "markdown",
   "id": "7de9a1a4-25bd-4e0c-a0b7-d17d1480e2dc",
   "metadata": {},
   "source": [
    "## 멤버 파라미터 값으로 변수 초기화 "
   ]
  },
  {
   "cell_type": "code",
   "execution_count": 70,
   "id": "92671645-5b7b-4a5a-947f-8c4a98c4329c",
   "metadata": {},
   "outputs": [],
   "source": [
    "class Car:\n",
    "    def __init__(self,pnum, pspeed):\n",
    "        self.num = pnum\n",
    "        self.pspeed = pspeed"
   ]
  },
  {
   "cell_type": "code",
   "execution_count": 71,
   "id": "13a422bc-a32f-405f-a072-4b32fcb5a3ce",
   "metadata": {},
   "outputs": [],
   "source": [
    "new_car = Car(2025, 90)"
   ]
  },
  {
   "cell_type": "code",
   "execution_count": 72,
   "id": "28b42136-62a0-4210-9466-7bcbd30b0fff",
   "metadata": {},
   "outputs": [
    {
     "name": "stdout",
     "output_type": "stream",
     "text": [
      "차량 번호 2025\n",
      "속도는 90\n"
     ]
    }
   ],
   "source": [
    "print('차량 번호', new_car.num)\n",
    "print('속도는', new_car.pspeed)"
   ]
  },
  {
   "cell_type": "code",
   "execution_count": 79,
   "id": "c8ae46ea-5e43-4047-bf6f-4ae5e6f8af24",
   "metadata": {},
   "outputs": [],
   "source": [
    "class Car:\n",
    "    def __init__(self,pnum, pspeed):\n",
    "        self.num = pnum\n",
    "        self.pspeed = pspeed\n",
    "    def fprint(self):\n",
    "        print('차량 번호', self.num)\n",
    "        print('속도는', self.pspeed)"
   ]
  },
  {
   "cell_type": "code",
   "execution_count": 81,
   "id": "6305c38d-2416-46c6-994a-fa0ff707e680",
   "metadata": {},
   "outputs": [
    {
     "name": "stdout",
     "output_type": "stream",
     "text": [
      "차량 번호 2025\n",
      "속도는 90\n"
     ]
    }
   ],
   "source": [
    "new_car = Car(2025, 90)\n",
    "new_car.fprint()"
   ]
  },
  {
   "cell_type": "code",
   "execution_count": 87,
   "id": "b30cda14-ef48-435e-a5fd-9c3d0cf772f5",
   "metadata": {},
   "outputs": [
    {
     "name": "stdout",
     "output_type": "stream",
     "text": [
      "객체 obj 내의 인스턴스 변수 x의 값은  10\n",
      "객체 obj 내의 인스턴스 변수 y의 값은  20\n",
      "객체 obj 내의 인스턴스 변수 합의 값은  30\n"
     ]
    }
   ],
   "source": [
    "class Cadd:\n",
    "    def fadd(self, a, b):\n",
    "        self.x = a\n",
    "        self.y = b\n",
    "        self.hap = self.x + self.y\n",
    "        \n",
    "obj = Cadd()\n",
    "obj.fadd(10, 20)\n",
    "\n",
    "print('객체 obj 내의 인스턴스 변수 x의 값은 ', obj.x)\n",
    "print('객체 obj 내의 인스턴스 변수 y의 값은 ', obj.y)\n",
    "print('객체 obj 내의 인스턴스 변수 합의 값은 ', obj.hap)"
   ]
  },
  {
   "cell_type": "code",
   "execution_count": 86,
   "id": "765dca4f-42b8-4368-a4ed-bd3c973d0480",
   "metadata": {},
   "outputs": [
    {
     "name": "stdout",
     "output_type": "stream",
     "text": [
      "ohap의 값은 ? 30\n"
     ]
    }
   ],
   "source": [
    "class Cadd:\n",
    "    def fadd(self, a, b):\n",
    "        hap = a + b\n",
    "        return hap\n",
    "        \n",
    "obj = Cadd()\n",
    "ohap = obj.fadd(10, 20)\n",
    "\n",
    "print('ohap의 값은 ?', ohap)"
   ]
  },
  {
   "cell_type": "markdown",
   "id": "a1f4ff5c-e7b3-4a38-8065-f85f76ef0ab9",
   "metadata": {},
   "source": [
    "## 클래스 객체 멤버 함수의 파라미터에 초기 값 설정 "
   ]
  },
  {
   "cell_type": "code",
   "execution_count": 90,
   "id": "072deba7-5fb3-4359-b8b8-c4ce37646f78",
   "metadata": {},
   "outputs": [
    {
     "name": "stdout",
     "output_type": "stream",
     "text": [
      "ohap의 값은 ? 3\n"
     ]
    }
   ],
   "source": [
    "class Cadd:\n",
    "    def fadd(self, a=1, b=2):\n",
    "        self.x = a\n",
    "        self.y = b\n",
    "        self.hap = self.x + self.y\n",
    "        return self.hap\n",
    "        \n",
    "obj = Cadd()\n",
    "ohap = obj.fadd()\n",
    "\n",
    "print('ohap의 값은 ?', ohap)"
   ]
  },
  {
   "cell_type": "code",
   "execution_count": 92,
   "id": "d0efde44-3a6d-4ff8-a6d2-d977b4426912",
   "metadata": {},
   "outputs": [
    {
     "name": "stdout",
     "output_type": "stream",
     "text": [
      "ohap의 값은 ? 30\n"
     ]
    }
   ],
   "source": [
    "ohap = obj.fadd(10,20)\n",
    "\n",
    "print('ohap의 값은 ?', ohap)"
   ]
  },
  {
   "cell_type": "code",
   "execution_count": 93,
   "id": "25ad4294-d7f0-4379-bb18-1a8415a7fb30",
   "metadata": {},
   "outputs": [
    {
     "name": "stdout",
     "output_type": "stream",
     "text": [
      "ohap의 값은 ? 12\n"
     ]
    }
   ],
   "source": [
    "ohap = obj.fadd(10, )\n",
    "\n",
    "print('ohap의 값은 ?', ohap)"
   ]
  },
  {
   "cell_type": "code",
   "execution_count": 3,
   "id": "1c846d15-2865-49f9-8ba5-7fea8fb2ff8b",
   "metadata": {},
   "outputs": [
    {
     "ename": "NameError",
     "evalue": "name 'obj' is not defined",
     "output_type": "error",
     "traceback": [
      "\u001b[1;31m---------------------------------------------------------------------------\u001b[0m",
      "\u001b[1;31mNameError\u001b[0m                                 Traceback (most recent call last)",
      "Cell \u001b[1;32mIn[3], line 1\u001b[0m\n\u001b[1;32m----> 1\u001b[0m ohap \u001b[38;5;241m=\u001b[39m obj\u001b[38;5;241m.\u001b[39mfadd()\n\u001b[0;32m      3\u001b[0m \u001b[38;5;28mprint\u001b[39m(\u001b[38;5;124m'\u001b[39m\u001b[38;5;124mohap의 값은 ?\u001b[39m\u001b[38;5;124m'\u001b[39m, ohap)\n",
      "\u001b[1;31mNameError\u001b[0m: name 'obj' is not defined"
     ]
    }
   ],
   "source": [
    "ohap = obj.fadd()\n",
    "\n",
    "print('ohap의 값은 ?', ohap)"
   ]
  },
  {
   "cell_type": "code",
   "execution_count": 4,
   "id": "ebee12d5-4760-4745-a046-86cc71912de0",
   "metadata": {},
   "outputs": [
    {
     "ename": "TypeError",
     "evalue": "__init__() should return None, not 'int'",
     "output_type": "error",
     "traceback": [
      "\u001b[1;31m---------------------------------------------------------------------------\u001b[0m",
      "\u001b[1;31mTypeError\u001b[0m                                 Traceback (most recent call last)",
      "Cell \u001b[1;32mIn[4], line 7\u001b[0m\n\u001b[0;32m      5\u001b[0m         \u001b[38;5;28mself\u001b[39m\u001b[38;5;241m.\u001b[39mhap \u001b[38;5;241m=\u001b[39m \u001b[38;5;28mself\u001b[39m\u001b[38;5;241m.\u001b[39mx \u001b[38;5;241m+\u001b[39m \u001b[38;5;28mself\u001b[39m\u001b[38;5;241m.\u001b[39my\n\u001b[0;32m      6\u001b[0m         \u001b[38;5;28;01mreturn\u001b[39;00m \u001b[38;5;28mself\u001b[39m\u001b[38;5;241m.\u001b[39mhap\n\u001b[1;32m----> 7\u001b[0m ohap \u001b[38;5;241m=\u001b[39m Cadd(\u001b[38;5;241m10\u001b[39m,\u001b[38;5;241m20\u001b[39m)\n\u001b[0;32m      9\u001b[0m \u001b[38;5;28mprint\u001b[39m(\u001b[38;5;124m'\u001b[39m\u001b[38;5;124mohap의 값은 ?\u001b[39m\u001b[38;5;124m'\u001b[39m, ohap)\n",
      "\u001b[1;31mTypeError\u001b[0m: __init__() should return None, not 'int'"
     ]
    }
   ],
   "source": [
    "class Cadd:\n",
    "    def __init__(self, a=1, b=2):\n",
    "        self.x = a\n",
    "        self.y = b\n",
    "        self.hap = self.x + self.y\n",
    "        return self.hap   ##__init__ 에서는 return을 사용할 수 없음 \n",
    "ohap = Cadd(10,20)\n",
    "\n",
    "print('ohap의 값은 ?', ohap)"
   ]
  },
  {
   "cell_type": "code",
   "execution_count": 17,
   "id": "c9a5a16a-540a-4e73-b1b1-7b1333b2ccbf",
   "metadata": {},
   "outputs": [],
   "source": [
    "class Ccalc:\n",
    "    def fadd(self, a, b):\n",
    "        self.x = a\n",
    "        self.y = b\n",
    "        self.add = self.x + self.y\n",
    "        return self.add\n",
    "    def fsub(self, a, b):\n",
    "        self.x = a\n",
    "        self.y = b\n",
    "        self.sub = self.x - self.y\n",
    "        return self.sub\n",
    "    def fmul(self, a, b):\n",
    "        self.x = a\n",
    "        self.y = b\n",
    "        self.mul = self.x * self.y\n",
    "        return self.mul\n",
    "    def fdiv(self, a, b):\n",
    "        self.x = a\n",
    "        self.y = b\n",
    "        self.div = self.x / self.y\n",
    "        return self.div"
   ]
  },
  {
   "cell_type": "code",
   "execution_count": 18,
   "id": "ca5544e4-fafb-4a97-842e-9b89e628026a",
   "metadata": {},
   "outputs": [
    {
     "name": "stdout",
     "output_type": "stream",
     "text": [
      "30\n",
      "-10\n",
      "200\n",
      "0.5\n"
     ]
    }
   ],
   "source": [
    "cal1 = Ccalc()\n",
    "print(cal1.fadd(10,20))\n",
    "print(cal1.fsub(10,20))\n",
    "print(cal1.fmul(10,20))\n",
    "print(cal1.fdiv(10,20))"
   ]
  },
  {
   "cell_type": "code",
   "execution_count": 20,
   "id": "4d9cf474-edfe-4f02-8a6c-43b1abe7bd34",
   "metadata": {},
   "outputs": [],
   "source": [
    "from fcal import Fcalc, Fcala   #fcal.py에 존재하는 클래스 Fcalc, Fcala 를 불러온다. "
   ]
  },
  {
   "cell_type": "code",
   "execution_count": 21,
   "id": "84b04c44-a397-4c40-9009-91b20f627200",
   "metadata": {},
   "outputs": [],
   "source": [
    "cal1 = Fcalc()"
   ]
  },
  {
   "cell_type": "code",
   "execution_count": 22,
   "id": "9ad56a85-c1cd-4929-97fd-09e255e01a16",
   "metadata": {},
   "outputs": [
    {
     "name": "stdout",
     "output_type": "stream",
     "text": [
      "30\n",
      "-10\n",
      "200\n",
      "0.5\n"
     ]
    }
   ],
   "source": [
    "print(cal1.fadd(10,20))\n",
    "print(cal1.fsub(10,20))\n",
    "print(cal1.fmul(10,20))\n",
    "print(cal1.fdiv(10,20))"
   ]
  },
  {
   "cell_type": "code",
   "execution_count": 23,
   "id": "a6e7ba2f-daf2-4ed9-8d16-b00932747730",
   "metadata": {},
   "outputs": [],
   "source": [
    "cal2 = Fcala()"
   ]
  },
  {
   "cell_type": "code",
   "execution_count": 26,
   "id": "fa5d6435-ddfc-419d-8ffc-566f1bed881f",
   "metadata": {},
   "outputs": [
    {
     "data": {
      "text/plain": [
       "100"
      ]
     },
     "execution_count": 26,
     "metadata": {},
     "output_type": "execute_result"
    }
   ],
   "source": [
    "cal2.fsqrt(10,2)"
   ]
  },
  {
   "cell_type": "code",
   "execution_count": null,
   "id": "82ff23bd-3664-4bc7-941c-e3acf13dc5f9",
   "metadata": {},
   "outputs": [],
   "source": []
  }
 ],
 "metadata": {
  "kernelspec": {
   "display_name": "Python 3 (ipykernel)",
   "language": "python",
   "name": "python3"
  },
  "language_info": {
   "codemirror_mode": {
    "name": "ipython",
    "version": 3
   },
   "file_extension": ".py",
   "mimetype": "text/x-python",
   "name": "python",
   "nbconvert_exporter": "python",
   "pygments_lexer": "ipython3",
   "version": "3.12.8"
  }
 },
 "nbformat": 4,
 "nbformat_minor": 5
}
