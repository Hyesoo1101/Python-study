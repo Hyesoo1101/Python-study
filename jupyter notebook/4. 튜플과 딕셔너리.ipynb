{
 "cells": [
  {
   "cell_type": "code",
   "execution_count": 68,
   "id": "f70e892e-e33e-4c83-a7f4-7ff52c05135c",
   "metadata": {},
   "outputs": [
    {
     "data": {
      "text/plain": [
       "('스쿼트', '런지', '레그컬')"
      ]
     },
     "execution_count": 68,
     "metadata": {},
     "output_type": "execute_result"
    }
   ],
   "source": [
    "#튜플은 프로그램이 시작되면 내용을 변경할 수 없습니다\n",
    "#중요 정보를 사용할 때 적합 \n",
    "leg_day = ('스쿼트', '런지', '레그컬')\n",
    "leg_day"
   ]
  },
  {
   "cell_type": "code",
   "execution_count": 69,
   "id": "57789c79-bcab-4949-bdf1-8b305fa2598c",
   "metadata": {},
   "outputs": [
    {
     "data": {
      "text/plain": [
       "'스쿼트'"
      ]
     },
     "execution_count": 69,
     "metadata": {},
     "output_type": "execute_result"
    }
   ],
   "source": [
    "leg_day[0]"
   ]
  },
  {
   "cell_type": "code",
   "execution_count": 70,
   "id": "24b7ac31-da17-46be-9617-8a51ef3ed01c",
   "metadata": {},
   "outputs": [
    {
     "ename": "TypeError",
     "evalue": "'tuple' object does not support item assignment",
     "output_type": "error",
     "traceback": [
      "\u001b[1;31m---------------------------------------------------------------------------\u001b[0m",
      "\u001b[1;31mTypeError\u001b[0m                                 Traceback (most recent call last)",
      "Cell \u001b[1;32mIn[70], line 1\u001b[0m\n\u001b[1;32m----> 1\u001b[0m leg_day[\u001b[38;5;241m0\u001b[39m] \u001b[38;5;241m=\u001b[39m \u001b[38;5;124m'\u001b[39m\u001b[38;5;124m벤치프레스\u001b[39m\u001b[38;5;124m'\u001b[39m\n",
      "\u001b[1;31mTypeError\u001b[0m: 'tuple' object does not support item assignment"
     ]
    }
   ],
   "source": [
    "leg_day[0] = '벤치프레스'"
   ]
  },
  {
   "cell_type": "code",
   "execution_count": 71,
   "id": "b3e95b6c-6947-4dab-8049-9bd719c185a2",
   "metadata": {},
   "outputs": [
    {
     "ename": "AttributeError",
     "evalue": "'tuple' object has no attribute 'append'",
     "output_type": "error",
     "traceback": [
      "\u001b[1;31m---------------------------------------------------------------------------\u001b[0m",
      "\u001b[1;31mAttributeError\u001b[0m                            Traceback (most recent call last)",
      "Cell \u001b[1;32mIn[71], line 1\u001b[0m\n\u001b[1;32m----> 1\u001b[0m leg_day\u001b[38;5;241m.\u001b[39mappend(\u001b[38;5;124m'\u001b[39m\u001b[38;5;124m숄더프레스\u001b[39m\u001b[38;5;124m'\u001b[39m)\n",
      "\u001b[1;31mAttributeError\u001b[0m: 'tuple' object has no attribute 'append'"
     ]
    }
   ],
   "source": [
    "leg_day.append('숄더프레스')"
   ]
  },
  {
   "cell_type": "code",
   "execution_count": 72,
   "id": "ed532789-b907-4345-9d33-a077c47d0931",
   "metadata": {},
   "outputs": [
    {
     "ename": "SyntaxError",
     "evalue": "incomplete input (1254604102.py, line 1)",
     "output_type": "error",
     "traceback": [
      "\u001b[1;36m  Cell \u001b[1;32mIn[72], line 1\u001b[1;36m\u001b[0m\n\u001b[1;33m    del leg_day[0[\u001b[0m\n\u001b[1;37m                  ^\u001b[0m\n\u001b[1;31mSyntaxError\u001b[0m\u001b[1;31m:\u001b[0m incomplete input\n"
     ]
    }
   ],
   "source": [
    "del leg_day[0["
   ]
  },
  {
   "cell_type": "code",
   "execution_count": 73,
   "id": "aa9dd2ae-6ca3-4415-8646-91dc0f733e12",
   "metadata": {},
   "outputs": [
    {
     "name": "stdout",
     "output_type": "stream",
     "text": [
      "{'삼성전자': 60000, 'sk하이닉스': 140000, '네이버': 350000}\n"
     ]
    }
   ],
   "source": [
    "#딕셔너리 {key : value}\n",
    "\n",
    "stock_prices = {'삼성전자' : 60000,\n",
    "                'sk하이닉스' : 140000,\n",
    "                '네이버' : 350000\n",
    "               }\n",
    "print(stock_prices)"
   ]
  },
  {
   "cell_type": "code",
   "execution_count": 74,
   "id": "01bae2c3-7420-41c8-b140-274d1e51d1dc",
   "metadata": {},
   "outputs": [
    {
     "name": "stdout",
     "output_type": "stream",
     "text": [
      "삼성전자\n",
      "sk하이닉스\n",
      "네이버\n"
     ]
    }
   ],
   "source": [
    "for key_value in stock_prices.keys():\n",
    "    print(key)"
   ]
  },
  {
   "cell_type": "code",
   "execution_count": 76,
   "id": "851665a6-5de8-4394-bd4c-5aae685b4d81",
   "metadata": {},
   "outputs": [
    {
     "name": "stdout",
     "output_type": "stream",
     "text": [
      "60000\n",
      "140000\n",
      "350000\n"
     ]
    }
   ],
   "source": [
    "for value in stock_prices.values():\n",
    "    print(value)"
   ]
  },
  {
   "cell_type": "code",
   "execution_count": 77,
   "id": "c091ee59-835d-4b03-a4f0-9a109771c15b",
   "metadata": {},
   "outputs": [
    {
     "name": "stdout",
     "output_type": "stream",
     "text": [
      "삼성전자 60000\n",
      "sk하이닉스 140000\n",
      "네이버 350000\n"
     ]
    }
   ],
   "source": [
    "for key, value in stock_prices.items():\n",
    "    print(key, value)"
   ]
  },
  {
   "cell_type": "code",
   "execution_count": 78,
   "id": "4298be69-6660-40db-b4ce-2f8cfbd50093",
   "metadata": {},
   "outputs": [],
   "source": [
    "#key 별 주가를 더해서 평균 주가 프린트하기- sum(), len() 활용  \n",
    "stock_prices = {\n",
    "                '삼성전자' : [60000, 61000, 62000],\n",
    "                'sk하이닉스' : [140000, 141000, 150000],\n",
    "                '네이버' : [350000, 355000, 360000]\n",
    "               }"
   ]
  },
  {
   "cell_type": "code",
   "execution_count": 79,
   "id": "0e061c09-2cb3-421c-a5eb-d09bb135b013",
   "metadata": {},
   "outputs": [
    {
     "name": "stdout",
     "output_type": "stream",
     "text": [
      "삼성전자 [60000, 61000, 62000]\n",
      "sk하이닉스 [140000, 141000, 150000]\n",
      "네이버 [350000, 355000, 360000]\n"
     ]
    }
   ],
   "source": [
    "for key, value in stock_prices.items():\n",
    "    print(key, value)"
   ]
  },
  {
   "cell_type": "code",
   "execution_count": 85,
   "id": "7949da75-a15f-4396-b585-1db64fe59eef",
   "metadata": {},
   "outputs": [
    {
     "name": "stdout",
     "output_type": "stream",
     "text": [
      " 삼성전자의 평균 주가는 61000 입니다\n",
      " sk하이닉스의 평균 주가는 143666 입니다\n",
      " 네이버의 평균 주가는 355000 입니다\n"
     ]
    }
   ],
   "source": [
    "for key, value in stock_prices.items():\n",
    "    avg = int(sum(value)/len(value))\n",
    "    print(f' {key}의 평균 주가는 {avg} 입니다')"
   ]
  },
  {
   "cell_type": "code",
   "execution_count": 111,
   "id": "49f39c2f-ef9e-4f8f-8056-490ca276c872",
   "metadata": {},
   "outputs": [
    {
     "name": "stdout",
     "output_type": "stream",
     "text": [
      "삼성전자 - 최고가80000, -최저가61000\n",
      "sk하이닉스 - 최고가160000, -최저가141000\n",
      "네이버 - 최고가400000, -최저가300000\n"
     ]
    }
   ],
   "source": [
    "#딕셔너리 안의 딕셔너리 활용하기 \n",
    "#각 회사 별로 주가의 최고가와 최저가를 구하시오. \n",
    "stock_prices = {\n",
    "                '삼성전자' : {'최고가': 80000, '최저가' : 61000, '현재가' : 62000},\n",
    "                'sk하이닉스' : {'최고가' : 160000, '최저가' : 141000, '현재가' : 150000},\n",
    "                '네이버' : {'최고가' : 400000, '최저가' : 300000, '현재가' : 360000}\n",
    "               }\n",
    "for key, value in stock_prices.items():\n",
    "    print(f'{key} - 최고가{value[\"최고가\"]}, 최저가{value[\"최저가\"]}')"
   ]
  },
  {
   "cell_type": "code",
   "execution_count": 113,
   "id": "26d8219b-7172-42f5-9f36-8ae56ad70de0",
   "metadata": {},
   "outputs": [
    {
     "name": "stdout",
     "output_type": "stream",
     "text": [
      "삼성전자 - 최고가: 80000, 최저가: 61000\n",
      "sk하이닉스 - 최고가: 160000, 최저가: 141000\n",
      "네이버 - 최고가: 400000, 최저가: 300000\n"
     ]
    }
   ],
   "source": [
    "for key, value in stock_prices.items():\n",
    "    max_value = value[\"최고가\"]\n",
    "    min_value = value[\"최저가\"]\n",
    "    print(f'{key} - 최고가: {max_value}, 최저가: {min_value}')"
   ]
  },
  {
   "cell_type": "code",
   "execution_count": null,
   "id": "3c1ac1f3-1e76-4002-aeec-f9ebf616d35d",
   "metadata": {},
   "outputs": [],
   "source": []
  }
 ],
 "metadata": {
  "kernelspec": {
   "display_name": "Python 3 (ipykernel)",
   "language": "python",
   "name": "python3"
  },
  "language_info": {
   "codemirror_mode": {
    "name": "ipython",
    "version": 3
   },
   "file_extension": ".py",
   "mimetype": "text/x-python",
   "name": "python",
   "nbconvert_exporter": "python",
   "pygments_lexer": "ipython3",
   "version": "3.12.8"
  }
 },
 "nbformat": 4,
 "nbformat_minor": 5
}
