{
 "cells": [
  {
   "cell_type": "code",
   "execution_count": 13,
   "id": "4401bf9f-cdb0-400f-a430-277b90a3a943",
   "metadata": {},
   "outputs": [
    {
     "data": {
      "text/plain": [
       "'C:\\\\Users\\\\ITBANK NR 306_4'"
      ]
     },
     "execution_count": 13,
     "metadata": {},
     "output_type": "execute_result"
    }
   ],
   "source": [
    "#프로그램의 위치 찾기\n",
    "\n",
    "import os\n",
    "os.getcwd()   #Get Current Work Directory"
   ]
  },
  {
   "cell_type": "code",
   "execution_count": 1,
   "id": "731bb0d9-47fc-42ff-b6e7-67b863be93d1",
   "metadata": {},
   "outputs": [
    {
     "data": {
      "text/plain": [
       "['삼성전자', 'sk하이닉스', '네이버']"
      ]
     },
     "execution_count": 1,
     "metadata": {},
     "output_type": "execute_result"
    }
   ],
   "source": [
    "company_list = ['삼성전자', 'sk하이닉스', '네이버']\n",
    "company_list"
   ]
  },
  {
   "cell_type": "code",
   "execution_count": 2,
   "id": "050a2a60-46fa-4f9e-8f5a-3ee26c69be23",
   "metadata": {},
   "outputs": [
    {
     "name": "stdout",
     "output_type": "stream",
     "text": [
      "['삼성전자', 'sk하이닉스', '네이버']\n"
     ]
    }
   ],
   "source": [
    "print(company_list)"
   ]
  },
  {
   "cell_type": "code",
   "execution_count": 3,
   "id": "d28c8757-3d41-4d13-a5cb-cae189e3498f",
   "metadata": {},
   "outputs": [
    {
     "data": {
      "text/plain": [
       "list"
      ]
     },
     "execution_count": 3,
     "metadata": {},
     "output_type": "execute_result"
    }
   ],
   "source": [
    "type(company_list)"
   ]
  },
  {
   "cell_type": "code",
   "execution_count": 8,
   "id": "276596a0-1d1b-430c-8ce7-38713f7d7387",
   "metadata": {},
   "outputs": [
    {
     "name": "stdout",
     "output_type": "stream",
     "text": [
      "네이버\n",
      "sk하이닉스\n",
      "삼성전자\n"
     ]
    }
   ],
   "source": [
    "print(company_list[-1])\n",
    "print(company_list[-2])\n",
    "print(company_list[-3])"
   ]
  },
  {
   "cell_type": "code",
   "execution_count": 9,
   "id": "fd13e0c8-757c-4e8b-8006-6b71c7f83a47",
   "metadata": {},
   "outputs": [
    {
     "data": {
      "text/plain": [
       "['애플', '구글', '테슬라']"
      ]
     },
     "execution_count": 9,
     "metadata": {},
     "output_type": "execute_result"
    }
   ],
   "source": [
    "company_list[0] = '애플'\n",
    "company_list[1] = '구글'\n",
    "company_list[2] = '테슬라'\n",
    "company_list"
   ]
  },
  {
   "cell_type": "code",
   "execution_count": 10,
   "id": "74fbf7b4-1c35-47c2-a6c6-f9d6f1b228ed",
   "metadata": {},
   "outputs": [
    {
     "data": {
      "text/plain": [
       "['애플', '구글', '테슬라', '마이크로소프트']"
      ]
     },
     "execution_count": 10,
     "metadata": {},
     "output_type": "execute_result"
    }
   ],
   "source": [
    "company_list.append('마이크로소프트')\n",
    "company_list"
   ]
  },
  {
   "cell_type": "code",
   "execution_count": 11,
   "id": "7248d6bd-1545-42b0-90be-c5e9d4033a88",
   "metadata": {},
   "outputs": [
    {
     "name": "stdout",
     "output_type": "stream",
     "text": [
      "['구글', '테슬라', '마이크로소프트']\n"
     ]
    }
   ],
   "source": [
    "del company_list[0]   #리스트의 0번째 요소를 삭제 \n",
    "print(company_list)"
   ]
  },
  {
   "cell_type": "code",
   "execution_count": 12,
   "id": "2346e4a4-8b2c-42f4-9b7a-31520476c40c",
   "metadata": {},
   "outputs": [
    {
     "data": {
      "text/plain": [
       "3"
      ]
     },
     "execution_count": 12,
     "metadata": {},
     "output_type": "execute_result"
    }
   ],
   "source": [
    "len(company_list) #리스트 요소의 갯수 "
   ]
  },
  {
   "cell_type": "code",
   "execution_count": 14,
   "id": "f169f374-ec3f-49f9-a63e-7b9017a21134",
   "metadata": {},
   "outputs": [
    {
     "data": {
      "text/plain": [
       "[1, 2, 3, 4, 5, 6, 7, 8, 9]"
      ]
     },
     "execution_count": 14,
     "metadata": {},
     "output_type": "execute_result"
    }
   ],
   "source": [
    "num_list = [1, 2, 3, 4, 5, 6, 7, 8, 9]\n",
    "num_list"
   ]
  },
  {
   "cell_type": "code",
   "execution_count": 15,
   "id": "127c87ea-f093-4367-8dcc-e980355b0fd4",
   "metadata": {},
   "outputs": [
    {
     "data": {
      "text/plain": [
       "1"
      ]
     },
     "execution_count": 15,
     "metadata": {},
     "output_type": "execute_result"
    }
   ],
   "source": [
    "num_list[0]"
   ]
  },
  {
   "cell_type": "code",
   "execution_count": 16,
   "id": "de037b73-8ff8-4d1f-9491-ab28d5c2ca8f",
   "metadata": {},
   "outputs": [
    {
     "data": {
      "text/plain": [
       "[1, 2, 3, 4]"
      ]
     },
     "execution_count": 16,
     "metadata": {},
     "output_type": "execute_result"
    }
   ],
   "source": [
    "num_list[0:4]"
   ]
  },
  {
   "cell_type": "code",
   "execution_count": 17,
   "id": "311b060e-9bd4-4865-8827-03b2ca165dbf",
   "metadata": {},
   "outputs": [
    {
     "data": {
      "text/plain": [
       "[1, 2, 3, 4]"
      ]
     },
     "execution_count": 17,
     "metadata": {},
     "output_type": "execute_result"
    }
   ],
   "source": [
    "num_list[:4]"
   ]
  },
  {
   "cell_type": "code",
   "execution_count": 18,
   "id": "94404085-dd85-490d-8d34-7a6b9f8da1f5",
   "metadata": {},
   "outputs": [
    {
     "data": {
      "text/plain": [
       "[3, 4, 5]"
      ]
     },
     "execution_count": 18,
     "metadata": {},
     "output_type": "execute_result"
    }
   ],
   "source": [
    "num_list[2:5]"
   ]
  },
  {
   "cell_type": "code",
   "execution_count": 19,
   "id": "7122a6ec-b673-43df-9ed7-1030dd26b815",
   "metadata": {},
   "outputs": [
    {
     "data": {
      "text/plain": [
       "[6, 7, 8, 9]"
      ]
     },
     "execution_count": 19,
     "metadata": {},
     "output_type": "execute_result"
    }
   ],
   "source": [
    "num_list[5:]   #증가치 생략 "
   ]
  },
  {
   "cell_type": "code",
   "execution_count": 20,
   "id": "fa5733d7-1d3c-4366-9f13-b9785759a682",
   "metadata": {},
   "outputs": [
    {
     "data": {
      "text/plain": [
       "[1, 3, 5, 7, 9]"
      ]
     },
     "execution_count": 20,
     "metadata": {},
     "output_type": "execute_result"
    }
   ],
   "source": [
    "num_list[::3]   #초기:목표-1:증가치 "
   ]
  },
  {
   "cell_type": "code",
   "execution_count": 22,
   "id": "80158d42-3715-46a0-b273-5e3144f6ef31",
   "metadata": {},
   "outputs": [
    {
     "name": "stdout",
     "output_type": "stream",
     "text": [
      "대검을(를) 확인했습니다.\n",
      "창닫기\n",
      "포션을(를) 확인했습니다.\n",
      "창닫기\n",
      "마법사을(를) 확인했습니다.\n",
      "창닫기\n"
     ]
    }
   ],
   "source": [
    "inventory = ['대검', '포션', '마법사']\n",
    "\n",
    "for item in inventory:\n",
    "    print(item+'을(를) 확인했습니다.')\n",
    "    print('창닫기')"
   ]
  },
  {
   "cell_type": "code",
   "execution_count": null,
   "id": "c1f880a9-70d7-48f7-87f6-d85e40caab2f",
   "metadata": {},
   "outputs": [],
   "source": [
    "game_map = [\n",
    "    ['대검', '포션' None],\n",
    "    [None, '보물상자', '포션'],\n",
    "    ['몬스터', None, '열쇠']\n",
    "]"
   ]
  },
  {
   "cell_type": "code",
   "execution_count": 49,
   "id": "314fc80f-c111-4fcb-8c49-a8d208e417ba",
   "metadata": {},
   "outputs": [
    {
     "name": "stdout",
     "output_type": "stream",
     "text": [
      "[1, 2]\n",
      "item+  1\n",
      "item+  2\n",
      "[2, 3]\n",
      "item+  2\n",
      "item+  3\n",
      "[3, 4]\n",
      "item+  3\n",
      "item+  4\n"
     ]
    }
   ],
   "source": [
    "for game in game_map:\n",
    "    print(game)\n",
    "    for item in game:\n",
    "         print('item ', item)"
   ]
  },
  {
   "cell_type": "code",
   "execution_count": 35,
   "id": "52a8a724-87d2-4f77-9683-0fdff545dd39",
   "metadata": {},
   "outputs": [
    {
     "data": {
      "text/plain": [
       "int"
      ]
     },
     "execution_count": 35,
     "metadata": {},
     "output_type": "execute_result"
    }
   ],
   "source": [
    "type(game_map[0][0])"
   ]
  },
  {
   "cell_type": "code",
   "execution_count": 36,
   "id": "49ba765e-2da6-4ad0-9c93-aba078225368",
   "metadata": {},
   "outputs": [
    {
     "ename": "IndexError",
     "evalue": "list index out of range",
     "output_type": "error",
     "traceback": [
      "\u001b[1;31m---------------------------------------------------------------------------\u001b[0m",
      "\u001b[1;31mIndexError\u001b[0m                                Traceback (most recent call last)",
      "Cell \u001b[1;32mIn[36], line 1\u001b[0m\n\u001b[1;32m----> 1\u001b[0m game_map[\u001b[38;5;241m2\u001b[39m][\u001b[38;5;241m2\u001b[39m]\n",
      "\u001b[1;31mIndexError\u001b[0m: list index out of range"
     ]
    }
   ],
   "source": [
    "game_map[2][2]  #주의해서 사용할 것 "
   ]
  },
  {
   "cell_type": "code",
   "execution_count": 67,
   "id": "5e33f11f-3e84-469b-bdb9-55e9a8145b75",
   "metadata": {},
   "outputs": [
    {
     "name": "stdout",
     "output_type": "stream",
     "text": [
      "최고 점수:  200\n"
     ]
    }
   ],
   "source": [
    "#최고 점수 찾기 \n",
    "scores = [120, 150, 180, 200, 170]\n",
    "max_score = 0\n",
    "\n",
    "for score in scores:\n",
    "    if score > max_score:\n",
    "        max_score = score\n",
    "print('최고 점수: ', max_score)"
   ]
  },
  {
   "cell_type": "code",
   "execution_count": 64,
   "id": "264ac60e-a15c-4fb1-abe6-923eb4f79b8f",
   "metadata": {},
   "outputs": [],
   "source": [
    "def user_max(scores, max_score = 0):\n",
    "    for score in scores:\n",
    "        if score > max_score:\n",
    "            max_score = score\n",
    "    return max_score"
   ]
  },
  {
   "cell_type": "code",
   "execution_count": 65,
   "id": "80fe5e68-268f-444a-99f1-f8adb1377db7",
   "metadata": {},
   "outputs": [
    {
     "data": {
      "text/plain": [
       "200"
      ]
     },
     "execution_count": 65,
     "metadata": {},
     "output_type": "execute_result"
    }
   ],
   "source": [
    "scores = [120, 150, 180, 200, 170]\n",
    "user_max(scores)"
   ]
  },
  {
   "cell_type": "code",
   "execution_count": 41,
   "id": "cfc03b1e-e5a2-4053-9ff7-acc4532fafdc",
   "metadata": {},
   "outputs": [
    {
     "data": {
      "text/plain": [
       "200"
      ]
     },
     "execution_count": 41,
     "metadata": {},
     "output_type": "execute_result"
    }
   ],
   "source": [
    "max(scores)"
   ]
  },
  {
   "cell_type": "code",
   "execution_count": 44,
   "id": "c96d05a1-02f5-43db-9b9e-11fac164db12",
   "metadata": {},
   "outputs": [
    {
     "data": {
      "text/plain": [
       "120"
      ]
     },
     "execution_count": 44,
     "metadata": {},
     "output_type": "execute_result"
    }
   ],
   "source": [
    "min(scores)"
   ]
  },
  {
   "cell_type": "code",
   "execution_count": 47,
   "id": "46844a7b-0694-49cb-a0e1-d59533ba2ce6",
   "metadata": {},
   "outputs": [
    {
     "data": {
      "text/plain": [
       "820"
      ]
     },
     "execution_count": 47,
     "metadata": {},
     "output_type": "execute_result"
    }
   ],
   "source": [
    "sum(scores)"
   ]
  },
  {
   "cell_type": "code",
   "execution_count": 58,
   "id": "85d2a1f9-d849-41ea-8e95-8836eff1545f",
   "metadata": {},
   "outputs": [
    {
     "name": "stdout",
     "output_type": "stream",
     "text": [
      "17\n"
     ]
    }
   ],
   "source": [
    "#실습 문제 : 합계 구하기\n",
    "\n",
    "rooms =[\n",
    "    [3,1,2],\n",
    "    [2,0,1],\n",
    "    [1,3,4]\n",
    "]\n",
    "\n",
    "total = 0\n",
    "\n",
    "for room in rooms:\n",
    "    total = total + sum(room)\n",
    "\n",
    "print(total)"
   ]
  },
  {
   "cell_type": "code",
   "execution_count": 59,
   "id": "e58ef702-6801-4bc5-9d23-0c8b81dc38a8",
   "metadata": {},
   "outputs": [
    {
     "name": "stdout",
     "output_type": "stream",
     "text": [
      "17\n"
     ]
    }
   ],
   "source": [
    "total = 0\n",
    "\n",
    "for room in rooms:\n",
    "    for num in room:\n",
    "        total = total + num\n",
    "\n",
    "print(total)\n",
    "    "
   ]
  },
  {
   "cell_type": "code",
   "execution_count": null,
   "id": "6294dc17-d5e3-4807-bee2-dadcaf611101",
   "metadata": {},
   "outputs": [],
   "source": []
  },
  {
   "cell_type": "code",
   "execution_count": null,
   "id": "27c81ff9-9e9e-47f4-9ad0-aabbd543d6a8",
   "metadata": {},
   "outputs": [],
   "source": []
  }
 ],
 "metadata": {
  "kernelspec": {
   "display_name": "Python 3 (ipykernel)",
   "language": "python",
   "name": "python3"
  },
  "language_info": {
   "codemirror_mode": {
    "name": "ipython",
    "version": 3
   },
   "file_extension": ".py",
   "mimetype": "text/x-python",
   "name": "python",
   "nbconvert_exporter": "python",
   "pygments_lexer": "ipython3",
   "version": "3.12.8"
  }
 },
 "nbformat": 4,
 "nbformat_minor": 5
}
