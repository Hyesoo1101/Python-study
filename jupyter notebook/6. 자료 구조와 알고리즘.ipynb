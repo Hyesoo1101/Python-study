{
 "cells": [
  {
   "cell_type": "markdown",
   "id": "711ebe92-f3ab-4122-8a85-fa6d3391890e",
   "metadata": {},
   "source": [
    "# 최댓값 찾기"
   ]
  },
  {
   "cell_type": "code",
   "execution_count": 1,
   "id": "7d62f9d1-ac57-4116-83eb-3d6dd57f5fb8",
   "metadata": {},
   "outputs": [
    {
     "name": "stdout",
     "output_type": "stream",
     "text": [
      "17\n"
     ]
    }
   ],
   "source": [
    "# if문을 사용해 찾기 \n",
    "ca = [10, 17, 13, 11]\n",
    "\n",
    "max = ca[0]\n",
    "if max < ca[1]:\n",
    "    max = ca[1]\n",
    "    \n",
    "if max < ca[2]:\n",
    "    max = ca[2]\n",
    "\n",
    "if max < ca[3]:\n",
    "    max = ca[3]\n",
    "\n",
    "print(max)"
   ]
  },
  {
   "cell_type": "code",
   "execution_count": 2,
   "id": "87f93708-1d6d-40a8-95b0-a3614b5877e4",
   "metadata": {},
   "outputs": [
    {
     "name": "stdout",
     "output_type": "stream",
     "text": [
      "17\n"
     ]
    }
   ],
   "source": [
    "# for 문을 사용해 찾기 \n",
    "ca = [10, 17, 13, 11]\n",
    "\n",
    "max = ca[0]\n",
    "for sb in range(1,4):\n",
    "    if max < ca[sb]:\n",
    "        max = ca[sb]\n",
    "\n",
    "print(max)"
   ]
  },
  {
   "cell_type": "code",
   "execution_count": 9,
   "id": "f05311c9-96c4-4127-9ee9-62de42c00161",
   "metadata": {},
   "outputs": [
    {
     "name": "stdout",
     "output_type": "stream",
     "text": [
      "17\n"
     ]
    }
   ],
   "source": [
    "# 원소의 갯수를 모를 경우\n",
    "ca = [10, 17, 13, 11]\n",
    "\n",
    "max = ca[0]\n",
    "for sb in ca:\n",
    "    if max < sb:\n",
    "        max = sb\n",
    "\n",
    "print(max)"
   ]
  },
  {
   "cell_type": "code",
   "execution_count": 12,
   "id": "a7df290e-462a-4a46-8825-85449764bfa2",
   "metadata": {},
   "outputs": [],
   "source": [
    "del max"
   ]
  },
  {
   "cell_type": "code",
   "execution_count": 14,
   "id": "3b0d2008-ae29-44f9-b8ca-004504d3f514",
   "metadata": {},
   "outputs": [
    {
     "data": {
      "text/plain": [
       "17"
      ]
     },
     "execution_count": 14,
     "metadata": {},
     "output_type": "execute_result"
    }
   ],
   "source": [
    "ca = [10, 17, 13, 11]\n",
    "max(ca)"
   ]
  },
  {
   "cell_type": "markdown",
   "id": "b310988e-af1f-4f8a-854a-7ef87397bac3",
   "metadata": {},
   "source": [
    "# 원소의 정렬 (sort)"
   ]
  },
  {
   "cell_type": "code",
   "execution_count": 19,
   "id": "07bc5589-b5fe-4da6-95ee-7c8f57b1c9d3",
   "metadata": {},
   "outputs": [
    {
     "name": "stdout",
     "output_type": "stream",
     "text": [
      "[10, 21, 11, 15, 13]\n"
     ]
    }
   ],
   "source": [
    "ca = [21, 10, 11, 15, 13]\n",
    "mina = ca[0]\n",
    "minix = 0\n",
    "\n",
    "for sb in range(1, len(ca)):\n",
    "    if mina > ca[sb]:\n",
    "        mina = ca[sb]\n",
    "        minix = sb\n",
    "        \n",
    "temp = ca[0]\n",
    "ca[0] = ca[minix]\n",
    "ca[minix] = temp\n",
    "\n",
    "print(ca)"
   ]
  },
  {
   "cell_type": "code",
   "execution_count": 24,
   "id": "75edf295-bbc8-4978-b90d-5b4c9e517d43",
   "metadata": {},
   "outputs": [
    {
     "name": "stdout",
     "output_type": "stream",
     "text": [
      "[21, 10, 11, 15, 13]\n"
     ]
    }
   ],
   "source": [
    "ca = [21, 10, 11, 15, 13]\n",
    "mina = ca[1]\n",
    "minix = 1\n",
    "\n",
    "for sb in range(2, len(ca)):\n",
    "    if mina > ca[sb]:\n",
    "        mina = ca[sb]\n",
    "        minix = sb\n",
    "        \n",
    "temp = ca[1]\n",
    "ca[1] = ca[minix]\n",
    "ca[minix] = temp\n",
    "\n",
    "print(ca)"
   ]
  },
  {
   "cell_type": "code",
   "execution_count": 25,
   "id": "2145b5f3-0013-4305-a3b4-a73a791e6769",
   "metadata": {},
   "outputs": [
    {
     "ename": "SyntaxError",
     "evalue": "incomplete input (3256982181.py, line 2)",
     "output_type": "error",
     "traceback": [
      "\u001b[1;36m  Cell \u001b[1;32mIn[25], line 2\u001b[1;36m\u001b[0m\n\u001b[1;33m    for sa in range(0, len(ca)\u001b[0m\n\u001b[1;37m                              ^\u001b[0m\n\u001b[1;31mSyntaxError\u001b[0m\u001b[1;31m:\u001b[0m incomplete input\n"
     ]
    }
   ],
   "source": [
    "def user_sort(ca):\n",
    "    for sa in range(0, len(ca))"
   ]
  },
  {
   "cell_type": "code",
   "execution_count": 26,
   "id": "b9f4bd32-a729-4bdb-abc0-e6980c6ec120",
   "metadata": {},
   "outputs": [
    {
     "name": "stdout",
     "output_type": "stream",
     "text": [
      "[10, 11, 13, 15, 21]\n"
     ]
    }
   ],
   "source": [
    "ca = [21, 10, 11, 15, 13]\n",
    "ca.sort()    #오름차순 \n",
    "print(ca)"
   ]
  },
  {
   "cell_type": "code",
   "execution_count": 27,
   "id": "d9d5dabf-bc8b-41f5-8c8b-eca8bce56ba1",
   "metadata": {},
   "outputs": [
    {
     "name": "stdout",
     "output_type": "stream",
     "text": [
      "[21, 15, 13, 11, 10]\n"
     ]
    }
   ],
   "source": [
    "ca = [21, 10, 11, 15, 13]\n",
    "ca.sort(reverse=True)    #내림차순 \n",
    "print(ca)"
   ]
  },
  {
   "cell_type": "markdown",
   "id": "a0a22c54-46ce-41f8-9484-543b7c3557bb",
   "metadata": {},
   "source": [
    "# 딕셔너리를 매개변수로 사용하는 방법 \n",
    "딕셔너리는 (key, value)"
   ]
  },
  {
   "cell_type": "code",
   "execution_count": 28,
   "id": "08361db3-63b1-4a78-a3db-e80d45c66be4",
   "metadata": {},
   "outputs": [
    {
     "name": "stdout",
     "output_type": "stream",
     "text": [
      "{'mon': '월', 'tue': '화', 'wed': '수'}\n"
     ]
    }
   ],
   "source": [
    "a = {'mon':'월', 'tue' :'화', 'wed':'수'}\n",
    "print(a)"
   ]
  },
  {
   "cell_type": "code",
   "execution_count": 30,
   "id": "837c5b1b-3aff-45ca-801e-090502ea1537",
   "metadata": {},
   "outputs": [
    {
     "name": "stdout",
     "output_type": "stream",
     "text": [
      "{'mon': '월', 'tue': '화', 'wed': '수'}\n"
     ]
    }
   ],
   "source": [
    "x = a\n",
    "print(x)"
   ]
  },
  {
   "cell_type": "code",
   "execution_count": 31,
   "id": "f4ba2281-22b8-4a0c-b1f4-82bf6a2ac5bb",
   "metadata": {},
   "outputs": [
    {
     "name": "stdout",
     "output_type": "stream",
     "text": [
      "{'mon': '일', 'tue': '화', 'wed': '수'}\n",
      "{'mon': '일', 'tue': '화', 'wed': '수'}\n"
     ]
    }
   ],
   "source": [
    "x['mon'] = '일'\n",
    "print(x)\n",
    "print(a)"
   ]
  },
  {
   "cell_type": "code",
   "execution_count": 32,
   "id": "dbcf09b2-fdb3-4199-962d-8b1b1c5a1341",
   "metadata": {},
   "outputs": [
    {
     "name": "stdout",
     "output_type": "stream",
     "text": [
      "{'mon': '월', 'tue': '화', 'wed': '수'}\n"
     ]
    }
   ],
   "source": [
    "a = {'mon':'월', 'tue' :'화', 'wed':'수'}\n",
    "print(a)"
   ]
  },
  {
   "cell_type": "code",
   "execution_count": 33,
   "id": "9f3967de-37d8-4c2f-b5de-b7cc1c714f69",
   "metadata": {},
   "outputs": [
    {
     "name": "stdout",
     "output_type": "stream",
     "text": [
      "{'mon': '월', 'tue': '화', 'wed': '수'}\n"
     ]
    }
   ],
   "source": [
    "x = a\n",
    "print(x)"
   ]
  },
  {
   "cell_type": "code",
   "execution_count": 34,
   "id": "805485d9-9270-46ed-86a7-68762ecc0dba",
   "metadata": {},
   "outputs": [],
   "source": [
    "def fch(x):\n",
    "    x['mon']='일'"
   ]
  },
  {
   "cell_type": "code",
   "execution_count": 36,
   "id": "6f715edb-da1a-4da3-952a-135aee0277d5",
   "metadata": {},
   "outputs": [
    {
     "name": "stdout",
     "output_type": "stream",
     "text": [
      "{'mon': '월', 'tue': '화', 'wed': '수'}\n",
      "{'mon': '월', 'tue': '화', 'wed': '수'}\n"
     ]
    }
   ],
   "source": [
    "a = {'mon':'월', 'tue' :'화', 'wed':'수'}\n",
    "print(a)\n",
    "x = a\n",
    "print(x)"
   ]
  },
  {
   "cell_type": "code",
   "execution_count": 37,
   "id": "90a1c663-2173-462b-a2aa-0973488b38e7",
   "metadata": {},
   "outputs": [
    {
     "name": "stdout",
     "output_type": "stream",
     "text": [
      "함수 실행 전: {'mon': '월', 'tue': '화', 'wed': '수'}\n",
      "함수 실행 후: {'mon': '일', 'tue': '화', 'wed': '수'}\n"
     ]
    }
   ],
   "source": [
    "print('함수 실행 전:', a)\n",
    "fch(a)\n",
    "print('함수 실행 후:', a)"
   ]
  },
  {
   "cell_type": "code",
   "execution_count": 38,
   "id": "f0bcda26-bb75-4c85-915d-b2253fde3957",
   "metadata": {},
   "outputs": [
    {
     "name": "stdout",
     "output_type": "stream",
     "text": [
      "함수 실행 후: {'mon': '일', 'tue': '화', 'wed': '수'}\n"
     ]
    }
   ],
   "source": [
    "print('함수 실행 후:', x)"
   ]
  },
  {
   "cell_type": "markdown",
   "id": "8733cafa-48df-43f8-a580-b87f451bf00a",
   "metadata": {},
   "source": [
    "# * args에서 ' * '의 의미 : 매개변수가 유동적일 때 '*'사용 "
   ]
  },
  {
   "cell_type": "code",
   "execution_count": 39,
   "id": "7c174548-5dd9-4358-a8b3-854ed773dcda",
   "metadata": {},
   "outputs": [
    {
     "name": "stdout",
     "output_type": "stream",
     "text": [
      "1\n",
      "2\n",
      "3\n",
      "4\n",
      "5\n"
     ]
    }
   ],
   "source": [
    "def my_func(*args):\n",
    "    for arg in args:\n",
    "        print(arg)\n",
    "my_func(1,2,3,4,5)"
   ]
  },
  {
   "cell_type": "code",
   "execution_count": 41,
   "id": "8c653e8a-6413-4935-bbd4-8f8a9453b575",
   "metadata": {},
   "outputs": [
    {
     "name": "stdout",
     "output_type": "stream",
     "text": [
      "1\n",
      "2\n",
      "3\n",
      "4\n",
      "5\n"
     ]
    }
   ],
   "source": [
    "def my_func(*xch):\n",
    "    for arg in xch:\n",
    "        print(arg)\n",
    "my_func(1,2,3,4,5)"
   ]
  },
  {
   "cell_type": "markdown",
   "id": "3869042b-0724-4596-b7e1-7eb6986b5f1e",
   "metadata": {},
   "source": [
    "##  ** kwargs에서 ' ** '의미  : 딕셔너리 데이터를 파라미터로 사용하는데 (유동적)"
   ]
  },
  {
   "cell_type": "code",
   "execution_count": 42,
   "id": "aa29ec97-8780-42a1-af7b-46f18b2cc492",
   "metadata": {},
   "outputs": [],
   "source": [
    "def my_func(**kwargs):\n",
    "    for key, value in kwargs.items():\n",
    "        print('key:', key, 'value :', value)"
   ]
  },
  {
   "cell_type": "code",
   "execution_count": 43,
   "id": "b098d399-8003-4212-800e-dd3481be177d",
   "metadata": {},
   "outputs": [
    {
     "name": "stdout",
     "output_type": "stream",
     "text": [
      "key: name value : john\n",
      "key: age value : 30\n",
      "key: gender value : Male\n",
      "key: loc value : 서울시\n"
     ]
    }
   ],
   "source": [
    "my_func(name='john', age=30, gender = 'Male', loc='서울시')"
   ]
  },
  {
   "cell_type": "code",
   "execution_count": 44,
   "id": "a656c284-fa65-474f-9ebf-e2e0d8cb841d",
   "metadata": {},
   "outputs": [],
   "source": [
    "def my_func(*args, **kwargs):\n",
    "    for arg in args:\n",
    "        print(arg)\n",
    "    for key, value in kwargs.items():\n",
    "        print('key:', key, 'value :', value)"
   ]
  },
  {
   "cell_type": "code",
   "execution_count": 45,
   "id": "63178938-b6af-440c-abbb-6974ca0f2e12",
   "metadata": {},
   "outputs": [
    {
     "name": "stdout",
     "output_type": "stream",
     "text": [
      "1\n",
      "2\n",
      "3\n",
      "4\n",
      "5\n",
      "key: name value : john\n",
      "key: age value : 30\n",
      "key: gender value : Male\n",
      "key: loc value : 서울시\n"
     ]
    }
   ],
   "source": [
    "my_func(1,2,3,4,5, name='john', age=30, gender = 'Male', loc='서울시')"
   ]
  },
  {
   "cell_type": "code",
   "execution_count": null,
   "id": "1c781b0f-27ef-483b-a647-d237825b5fb9",
   "metadata": {},
   "outputs": [],
   "source": []
  }
 ],
 "metadata": {
  "kernelspec": {
   "display_name": "Python 3 (ipykernel)",
   "language": "python",
   "name": "python3"
  },
  "language_info": {
   "codemirror_mode": {
    "name": "ipython",
    "version": 3
   },
   "file_extension": ".py",
   "mimetype": "text/x-python",
   "name": "python",
   "nbconvert_exporter": "python",
   "pygments_lexer": "ipython3",
   "version": "3.12.8"
  }
 },
 "nbformat": 4,
 "nbformat_minor": 5
}
