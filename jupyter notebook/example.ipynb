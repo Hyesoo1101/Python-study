{
 "cells": [
  {
   "cell_type": "code",
   "execution_count": null,
   "id": "316d149a-564a-4330-b093-b771552f6bbf",
   "metadata": {},
   "outputs": [],
   "source": [
    "a =1"
   ]
  },
  {
   "cell_type": "code",
   "execution_count": null,
   "id": "e31ca57c-7fed-42aa-951c-9538e5fe68ac",
   "metadata": {},
   "outputs": [],
   "source": [
    "print(a)"
   ]
  }
 ],
 "metadata": {
  "kernelspec": {
   "display_name": "Python 3 (ipykernel)",
   "language": "python",
   "name": "python3"
  },
  "language_info": {
   "codemirror_mode": {
    "name": "ipython",
    "version": 3
   },
   "file_extension": ".py",
   "mimetype": "text/x-python",
   "name": "python",
   "nbconvert_exporter": "python",
   "pygments_lexer": "ipython3",
   "version": "3.12.8"
  }
 },
 "nbformat": 4,
 "nbformat_minor": 5
}
