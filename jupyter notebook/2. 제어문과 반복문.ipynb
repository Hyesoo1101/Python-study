{
 "cells": [
  {
   "cell_type": "markdown",
   "id": "8770726e-cca0-4cfb-82d5-0bfea3fc3cdb",
   "metadata": {},
   "source": [
    "# 1. 조건문 예제\n",
    "## 1.1 짝수와 홀수 판별하기"
   ]
  },
  {
   "cell_type": "code",
   "execution_count": 15,
   "id": "4895ba09-7eb9-4620-a3a3-53da5c3a140b",
   "metadata": {},
   "outputs": [
    {
     "name": "stdin",
     "output_type": "stream",
     "text": [
      "정수를 입력하세요 : 20\n"
     ]
    },
    {
     "name": "stdout",
     "output_type": "stream",
     "text": [
      "20은(는) 짝수입니다.\n"
     ]
    }
   ],
   "source": [
    "number = int(input(\"정수를 입력하세요 :\"))\n",
    "\n",
    "if number % 2 == 0:\n",
    "    print(f\"{number}은(는) 짝수입니다.\")\n",
    "else:\n",
    "    print(f\"{numebr}은(는) 홀수입니다.\")\n",
    "    "
   ]
  },
  {
   "cell_type": "markdown",
   "id": "f666a61c-9359-437f-bd26-50a8fe2e6636",
   "metadata": {},
   "source": [
    "## 1.2 성적에 따른 학점 출력 "
   ]
  },
  {
   "cell_type": "code",
   "execution_count": 8,
   "id": "d60a5efc-1d55-4fce-81d2-19541e3c4329",
   "metadata": {},
   "outputs": [
    {
     "name": "stdin",
     "output_type": "stream",
     "text": [
      "점수를 입력하세요 (0~100):  100\n"
     ]
    },
    {
     "name": "stdout",
     "output_type": "stream",
     "text": [
      "A학점입니다.\n"
     ]
    }
   ],
   "source": [
    "# 점수를 입력받아 학점을 출력\n",
    "score = int(input(\"점수를 입력하세요 (0~100): \"))\n",
    "\n",
    "if score >= 90:\n",
    "    print(\"A학점입니다.\")\n",
    "elif score >= 80:\n",
    "    print(\"B학점입니다.\")\n",
    "elif score >= 70:\n",
    "    print(\"C학점입니다.\")\n",
    "elif score >= 60:\n",
    "    print(\"D학점입니다.\")\n",
    "else:\n",
    "    print(\"F학점입니다.\")"
   ]
  },
  {
   "cell_type": "markdown",
   "id": "91e510bb-c3bd-4f62-95cb-67464dda3c22",
   "metadata": {},
   "source": [
    "## 1.3 로그인 시스템"
   ]
  },
  {
   "cell_type": "code",
   "execution_count": 19,
   "id": "3f4caa9b-c685-4086-96a3-cd999f0a6b85",
   "metadata": {},
   "outputs": [
    {
     "name": "stdin",
     "output_type": "stream",
     "text": [
      "사용자 아이디를 입력하세요 admin\n",
      "사용자 비밀번호를 입력하세요 1234\n"
     ]
    },
    {
     "name": "stdout",
     "output_type": "stream",
     "text": [
      "로그인 성공!\n"
     ]
    }
   ],
   "source": [
    "# 간단한 로그인 시스템\n",
    "user_id = \"admin\"\n",
    "user_pw = \"1234\"\n",
    "\n",
    "input_id = input('사용자 아이디를 입력하세요')\n",
    "input_pw = input('사용자 비밀번호를 입력하세요')\n",
    "\n",
    "if user_id == input_id and user_pw == input_pw:\n",
    "    print('로그인 성공!')\n",
    "else:\n",
    "    print('등록된 사용자 아이디 또는 비밀번호가 틀립니다.')"
   ]
  },
  {
   "cell_type": "markdown",
   "id": "309ede2c-95c7-4176-94f2-1f47b519a670",
   "metadata": {},
   "source": [
    "# 2. 반복문 예제"
   ]
  },
  {
   "cell_type": "markdown",
   "id": "ae8d2f51-14f1-4309-bc07-81806f9b99fd",
   "metadata": {},
   "source": [
    "## 2.1 1부터 10까지 숫자 출력 ( for문)"
   ]
  },
  {
   "cell_type": "code",
   "execution_count": 24,
   "id": "712b508f-2442-4578-a0cd-027853394398",
   "metadata": {},
   "outputs": [
    {
     "name": "stdout",
     "output_type": "stream",
     "text": [
      "1\n",
      "3\n",
      "5\n",
      "7\n",
      "9\n"
     ]
    }
   ],
   "source": [
    "for i in range (1,11,2): #(초기값, 목표값+1, 증가값)\n",
    "    print(i)"
   ]
  },
  {
   "cell_type": "code",
   "execution_count": 25,
   "id": "fc8a1218-ff05-4c27-890c-8a3b5ef27458",
   "metadata": {},
   "outputs": [
    {
     "name": "stdout",
     "output_type": "stream",
     "text": [
      "a\n",
      "b\n",
      "c\n",
      "d\n"
     ]
    }
   ],
   "source": [
    "text_list = ['a','b','c','d']\n",
    "\n",
    "for txt in text_list:\n",
    "    print(txt)"
   ]
  },
  {
   "cell_type": "markdown",
   "id": "7626373e-cd14-4736-811d-67a6aed2fe3e",
   "metadata": {},
   "source": [
    "## 2.2 특정 단 구구단 출력"
   ]
  },
  {
   "cell_type": "code",
   "execution_count": 27,
   "id": "beffd466-54fd-41d8-ac45-51620460d701",
   "metadata": {},
   "outputs": [
    {
     "name": "stdin",
     "output_type": "stream",
     "text": [
      "출력 할 구구단의 단수를 입력하세요: 2\n"
     ]
    },
    {
     "name": "stdout",
     "output_type": "stream",
     "text": [
      "2 x 1 = 2\n",
      "2 x 2 = 4\n",
      "2 x 3 = 6\n",
      "2 x 4 = 8\n",
      "2 x 5 = 10\n",
      "2 x 6 = 12\n",
      "2 x 7 = 14\n",
      "2 x 8 = 16\n",
      "2 x 9 = 18\n"
     ]
    }
   ],
   "source": [
    "# 사용자로부터 구구단 단수를 입력받아 출력\n",
    "dan = int(input(\"출력 할 구구단의 단수를 입력하세요:\"))\n",
    "\n",
    "for i in range (1, 10):\n",
    "    print(f'{dan} x {i} = {dan * i}')"
   ]
  },
  {
   "cell_type": "markdown",
   "id": "84f86229-9a4f-4a08-a3f4-a1f8ea30572f",
   "metadata": {},
   "source": [
    "## 2.3 리스트 요소 출력"
   ]
  },
  {
   "cell_type": "code",
   "execution_count": 28,
   "id": "bcff99c1-9da5-4c76-8d59-246c636260a1",
   "metadata": {},
   "outputs": [
    {
     "name": "stdout",
     "output_type": "stream",
     "text": [
      "사과\n",
      "바나나\n",
      "포도\n",
      "오렌지\n"
     ]
    }
   ],
   "source": [
    "#리스트에 저장된 과일 이름 출력\n",
    "fruits = ['사과', '바나나', '포도', '오렌지']\n",
    "\n",
    "for fruit in fruits:\n",
    "        print(fruit)"
   ]
  },
  {
   "cell_type": "markdown",
   "id": "70657248-4387-406b-954d-259bfcf8a249",
   "metadata": {},
   "source": [
    "## 2.4 for문을 사용해서 1~100까지 합계 구하기"
   ]
  },
  {
   "cell_type": "code",
   "execution_count": 38,
   "id": "114d0186-afbe-4374-a21c-6a8b99544cec",
   "metadata": {},
   "outputs": [
    {
     "name": "stdout",
     "output_type": "stream",
     "text": [
      "합계= 5050\n"
     ]
    }
   ],
   "source": [
    "tot = 0\n",
    "for i in range(1,101):\n",
    "   tot = tot + i\n",
    "\n",
    "print('합계=',tot)"
   ]
  },
  {
   "cell_type": "markdown",
   "id": "d25c0f57-9a7e-456a-8f96-bdf879aaa625",
   "metadata": {},
   "source": [
    "## 2.5 while문을 사용해서 1~100까지 합계 구하기"
   ]
  },
  {
   "cell_type": "code",
   "execution_count": 39,
   "id": "0df91512-301e-4c8f-bad3-7ebe6fa0a058",
   "metadata": {},
   "outputs": [
    {
     "name": "stdout",
     "output_type": "stream",
     "text": [
      "1부터 100까지의 합은 5050입니다\n"
     ]
    }
   ],
   "source": [
    "# while문에서 break 사용 예제\n",
    "\n",
    "tot = 0\n",
    "cnt = 0\n",
    "\n",
    "while True:\n",
    "    if cnt > 99:\n",
    "        break\n",
    "    cnt = cnt + 1\n",
    "    tot = tot + cnt\n",
    "print(f'1부터 {cnt}까지의 합은 {tot}입니다')"
   ]
  },
  {
   "cell_type": "markdown",
   "id": "340d500c-4444-46ff-ab63-d77c70af9225",
   "metadata": {},
   "source": [
    "## 2.6 continue 사용 예제"
   ]
  },
  {
   "cell_type": "code",
   "execution_count": 40,
   "id": "ecff98ce-31f8-4c2e-80cb-0d970be558a8",
   "metadata": {},
   "outputs": [
    {
     "name": "stdout",
     "output_type": "stream",
     "text": [
      "2\n",
      "4\n",
      "6\n",
      "8\n",
      "10\n"
     ]
    }
   ],
   "source": [
    "# 1부터 10까지 출력하는데 짝수만 출력하시오.\n",
    "\n",
    "for i in range(1,11):\n",
    "    if i % 2 == 1:\n",
    "        continue    \n",
    "    print(i)"
   ]
  },
  {
   "cell_type": "markdown",
   "id": "8fedf96e-99fa-4f94-a880-0d7d52446672",
   "metadata": {},
   "source": [
    "## 2.7 별 출력 프로그램"
   ]
  },
  {
   "cell_type": "code",
   "execution_count": 43,
   "id": "d03ea0e6-89af-41bf-b0c1-9d14f06645c2",
   "metadata": {},
   "outputs": [
    {
     "name": "stdout",
     "output_type": "stream",
     "text": [
      "**********\n"
     ]
    }
   ],
   "source": [
    "print('*'*10)"
   ]
  },
  {
   "cell_type": "code",
   "execution_count": 44,
   "id": "bf790731-b4db-4f43-85db-cc97a92446a8",
   "metadata": {
    "jp-MarkdownHeadingCollapsed": true
   },
   "outputs": [
    {
     "name": "stdin",
     "output_type": "stream",
     "text": [
      "출력 할 줄 수를 입력하세요 : 5\n"
     ]
    },
    {
     "name": "stdout",
     "output_type": "stream",
     "text": [
      "*\n",
      "**\n",
      "***\n",
      "****\n",
      "*****\n"
     ]
    }
   ],
   "source": [
    "# 사용자로부터 숫자를 입력받아서 해당 숫자만큼 별을 출력 \n",
    "\n",
    "n = int(input('출력 할 줄 수를 입력하세요 :'))\n",
    "\n",
    "for i in range(1, n+1):\n",
    "    print('*' * i)"
   ]
  },
  {
   "cell_type": "markdown",
   "id": "386c251f-f111-4cc2-8829-4ca877e18916",
   "metadata": {},
   "source": [
    "## 2.8 숫자 피라미드 만들기"
   ]
  },
  {
   "cell_type": "code",
   "execution_count": null,
   "id": "3dfd472d-9af3-4410-8794-c2fbae2371c5",
   "metadata": {},
   "outputs": [],
   "source": []
  },
  {
   "cell_type": "code",
   "execution_count": 60,
   "id": "92eca751-c860-4e7a-bde6-8cffe380c299",
   "metadata": {},
   "outputs": [
    {
     "name": "stdin",
     "output_type": "stream",
     "text": [
      "피라미드의 높이를 입력하세요. : 6\n"
     ]
    },
    {
     "name": "stdout",
     "output_type": "stream",
     "text": [
      "1 \n",
      "1 2 \n",
      "1 2 3 \n",
      "1 2 3 4 \n",
      "1 2 3 4 5 \n",
      "1 2 3 4 5 6 \n"
     ]
    }
   ],
   "source": [
    "n = int(input('피라미드의 높이를 입력하세요. :'))\n",
    "\n",
    "for i in range(1, n+1):\n",
    "    for j in range(1, i+1):\n",
    "        print(j, end=' ')\n",
    "    print()"
   ]
  },
  {
   "cell_type": "markdown",
   "id": "91e08961-d5a4-4d16-8fd4-3023416f08e3",
   "metadata": {},
   "source": [
    "## 2.9 구구단 피라미드 만들기 "
   ]
  },
  {
   "cell_type": "code",
   "execution_count": 4,
   "id": "9dfcbb19-7f76-4886-a656-e1273b90547b",
   "metadata": {},
   "outputs": [
    {
     "name": "stdout",
     "output_type": "stream",
     "text": [
      "\n",
      "   1 단         2 단         3 단\n",
      "1 x 1 = 1    2 x 1 = 2    3 x 1 = 3\n",
      "1 x 2 = 2    2 x 2 = 4    3 x 2 = 6\n",
      "1 x 3 = 3    2 x 3 = 6    3 x 3 = 9\n",
      "1 x 4 = 4    2 x 4 = 8    3 x 4 = 12\n",
      "1 x 5 = 5    2 x 5 = 10    3 x 5 = 15\n",
      "1 x 6 = 6    2 x 6 = 12    3 x 6 = 18\n",
      "1 x 7 = 7    2 x 7 = 14    3 x 7 = 21\n",
      "1 x 8 = 8    2 x 8 = 16    3 x 8 = 24\n",
      "1 x 9 = 9    2 x 9 = 18    3 x 9 = 27\n",
      "\n",
      "   4 단         5 단         6 단\n",
      "4 x 1 = 4    5 x 1 = 5    6 x 1 = 6\n",
      "4 x 2 = 8    5 x 2 = 10    6 x 2 = 12\n",
      "4 x 3 = 12    5 x 3 = 15    6 x 3 = 18\n",
      "4 x 4 = 16    5 x 4 = 20    6 x 4 = 24\n",
      "4 x 5 = 20    5 x 5 = 25    6 x 5 = 30\n",
      "4 x 6 = 24    5 x 6 = 30    6 x 6 = 36\n",
      "4 x 7 = 28    5 x 7 = 35    6 x 7 = 42\n",
      "4 x 8 = 32    5 x 8 = 40    6 x 8 = 48\n",
      "4 x 9 = 36    5 x 9 = 45    6 x 9 = 54\n",
      "\n",
      "   7 단         8 단         9 단\n",
      "7 x 1 = 7    8 x 1 = 8    9 x 1 = 9\n",
      "7 x 2 = 14    8 x 2 = 16    9 x 2 = 18\n",
      "7 x 3 = 21    8 x 3 = 24    9 x 3 = 27\n",
      "7 x 4 = 28    8 x 4 = 32    9 x 4 = 36\n",
      "7 x 5 = 35    8 x 5 = 40    9 x 5 = 45\n",
      "7 x 6 = 42    8 x 6 = 48    9 x 6 = 54\n",
      "7 x 7 = 49    8 x 7 = 56    9 x 7 = 63\n",
      "7 x 8 = 56    8 x 8 = 64    9 x 8 = 72\n",
      "7 x 9 = 63    8 x 9 = 72    9 x 9 = 81\n"
     ]
    }
   ],
   "source": [
    "for i in range(1, 10, 3):\n",
    "    print(f'\\n   {i} 단         {i+1} 단         {i+2} 단')\n",
    "    for j in range(1,10):\n",
    "        print(f'{i} x {j} = {i*j}    {i+1} x {j} = {(i+1)*j}    {i+2} x {j} = {(i+2)*j}')"
   ]
  },
  {
   "cell_type": "markdown",
   "id": "85b16d79-28cd-4964-a95d-39184c750fbe",
   "metadata": {},
   "source": [
    "# 원 6개 그리기 "
   ]
  },
  {
   "cell_type": "code",
   "execution_count": 5,
   "id": "942b2bfd-11ff-4b94-acb2-0ec1c95dd394",
   "metadata": {},
   "outputs": [],
   "source": [
    "import turtle"
   ]
  },
  {
   "cell_type": "code",
   "execution_count": null,
   "id": "42411c20-4906-49d8-babb-d3af7bb1570c",
   "metadata": {},
   "outputs": [],
   "source": [
    "t = turtle.Turtle()\n",
    "t.circle(100)    #반지름이 100인 원을 그려라 \n",
    "t.left(60)       #각도를 왼쪽으로 60도 만큼 회전 \n",
    "t.circle(100)\n",
    "t.left(60)   \n",
    "t.circle(100)\n",
    "t.left(60)\n",
    "t.circle(100)\n",
    "t.left(60)\n",
    "t.circle(100)\n",
    "t.left(60)\n",
    "t.circle(100)\n",
    "t.left(60)\n",
    "\n",
    "turtle.exitoneclick()"
   ]
  },
  {
   "cell_type": "code",
   "execution_count": 11,
   "id": "b20dc82f-aff7-4b7e-8389-a6521d818a31",
   "metadata": {},
   "outputs": [
    {
     "ename": "AttributeError",
     "evalue": "module 'turtle' has no attribute 'exitoneclick'",
     "output_type": "error",
     "traceback": [
      "\u001b[1;31m---------------------------------------------------------------------------\u001b[0m",
      "\u001b[1;31mAttributeError\u001b[0m                            Traceback (most recent call last)",
      "Cell \u001b[1;32mIn[11], line 8\u001b[0m\n\u001b[0;32m      5\u001b[0m     t\u001b[38;5;241m.\u001b[39mcircle(\u001b[38;5;241m100\u001b[39m)\n\u001b[0;32m      6\u001b[0m     t\u001b[38;5;241m.\u001b[39mleft(\u001b[38;5;241m60\u001b[39m)\n\u001b[1;32m----> 8\u001b[0m turtle\u001b[38;5;241m.\u001b[39mexitoneclick()\n",
      "\u001b[1;31mAttributeError\u001b[0m: module 'turtle' has no attribute 'exitoneclick'"
     ]
    }
   ],
   "source": [
    "import turtle\n",
    "t = turtle.Turtle()\n",
    "\n",
    "for _ in range(6):\n",
    "    t.circle(100)\n",
    "    t.left(60)\n",
    "\n",
    "turtle.exitoneclick()"
   ]
  },
  {
   "cell_type": "markdown",
   "id": "0765d787-099a-484f-b5ba-b5306227158c",
   "metadata": {},
   "source": [
    "# n각형 그리기\n",
    "사용자로부터 정수 n (3이상)을 입력 받아서 한 변의 길이가 100인 정 n각형을 그리는 프로그램 작성"
   ]
  },
  {
   "cell_type": "code",
   "execution_count": 28,
   "id": "b2f6a71f-d038-4dfc-817a-368f5febc072",
   "metadata": {},
   "outputs": [
    {
     "ename": "AttributeError",
     "evalue": "module 'turtle' has no attribute 'exitoneclick'",
     "output_type": "error",
     "traceback": [
      "\u001b[1;31m---------------------------------------------------------------------------\u001b[0m",
      "\u001b[1;31mAttributeError\u001b[0m                            Traceback (most recent call last)",
      "Cell \u001b[1;32mIn[28], line 14\u001b[0m\n\u001b[0;32m     11\u001b[0m t\u001b[38;5;241m.\u001b[39mright(\u001b[38;5;241m360\u001b[39m\u001b[38;5;241m/\u001b[39m\u001b[38;5;241m5\u001b[39m)\n\u001b[0;32m     12\u001b[0m t\u001b[38;5;241m.\u001b[39mcircle(\u001b[38;5;241m106\u001b[39m)\n\u001b[1;32m---> 14\u001b[0m turtle\u001b[38;5;241m.\u001b[39mexitoneclick()\n\u001b[0;32m     16\u001b[0m \u001b[38;5;28;01mdel\u001b[39;00m t\n\u001b[0;32m     17\u001b[0m \u001b[38;5;28;01mtry\u001b[39;00m:\n",
      "\u001b[1;31mAttributeError\u001b[0m: module 'turtle' has no attribute 'exitoneclick'"
     ]
    }
   ],
   "source": [
    "import turtle\n",
    "import time\n",
    "t = turtle.Turtle()\n",
    "\n",
    "\n",
    "for _ in range(5):\n",
    "    time.sleep(1)\n",
    "    t.forward(200)\n",
    "    t.left((360/5)*2)\n",
    "\n",
    "t.right(360/5)\n",
    "t.circle(106)\n",
    "\n",
    "turtle.exitoneclick()\n",
    "\n",
    "del t\n",
    "try:\n",
    "    turtle.bye()\n",
    "except:\n",
    "    pass"
   ]
  },
  {
   "cell_type": "code",
   "execution_count": null,
   "id": "1ece03a8-89bf-4b82-b0c3-d64447b5e38e",
   "metadata": {},
   "outputs": [],
   "source": []
  }
 ],
 "metadata": {
  "kernelspec": {
   "display_name": "Python 3 (ipykernel)",
   "language": "python",
   "name": "python3"
  },
  "language_info": {
   "codemirror_mode": {
    "name": "ipython",
    "version": 3
   },
   "file_extension": ".py",
   "mimetype": "text/x-python",
   "name": "python",
   "nbconvert_exporter": "python",
   "pygments_lexer": "ipython3",
   "version": "3.12.8"
  }
 },
 "nbformat": 4,
 "nbformat_minor": 5
}
