{
 "cells": [
  {
   "cell_type": "code",
   "execution_count": 10,
   "id": "7d3cb98b-847c-4a94-9a32-9ffff2ce9411",
   "metadata": {},
   "outputs": [],
   "source": [
    "#함수는 Def 함수 명 (함수 안에서 사용 할 변수들):\n",
    "\n",
    "def add(a,b):\n",
    "    return a + b\n",
    "def sub(a, b):\n",
    "    return a-b\n",
    "def mul(a,b):\n",
    "    return a*b\n",
    "def div(a,b):\n",
    "    if b == 0:\n",
    "        return \"b = 0\"\n",
    "    return a/b"
   ]
  },
  {
   "cell_type": "code",
   "execution_count": 11,
   "id": "83d9b6db-40be-4acd-9367-92e3e9be2ebc",
   "metadata": {},
   "outputs": [
    {
     "data": {
      "text/plain": [
       "3"
      ]
     },
     "execution_count": 11,
     "metadata": {},
     "output_type": "execute_result"
    }
   ],
   "source": [
    "c = 1\n",
    "d = 2\n",
    "add(c,d)"
   ]
  },
  {
   "cell_type": "code",
   "execution_count": 12,
   "id": "dae43a03-d10d-4ee7-aeaf-1fc4321b89eb",
   "metadata": {},
   "outputs": [
    {
     "data": {
      "text/plain": [
       "-1"
      ]
     },
     "execution_count": 12,
     "metadata": {},
     "output_type": "execute_result"
    }
   ],
   "source": [
    "sub(c, d)"
   ]
  },
  {
   "cell_type": "code",
   "execution_count": 13,
   "id": "3c5ab2ec-69aa-4a7b-ad82-dcf20f392901",
   "metadata": {},
   "outputs": [
    {
     "data": {
      "text/plain": [
       "2"
      ]
     },
     "execution_count": 13,
     "metadata": {},
     "output_type": "execute_result"
    }
   ],
   "source": [
    "mul(c, d)"
   ]
  },
  {
   "cell_type": "code",
   "execution_count": 14,
   "id": "2d8fd1ec-073e-4509-8be7-7c334726d557",
   "metadata": {},
   "outputs": [
    {
     "data": {
      "text/plain": [
       "0.5"
      ]
     },
     "execution_count": 14,
     "metadata": {},
     "output_type": "execute_result"
    }
   ],
   "source": [
    "div(c, d)"
   ]
  },
  {
   "cell_type": "code",
   "execution_count": 17,
   "id": "12401bdf-910d-4eea-af26-1713187acb1e",
   "metadata": {},
   "outputs": [],
   "source": [
    "def user_avg(a,b,c):\n",
    "    avg = (a+b+c) / 3\n",
    "    return avg"
   ]
  },
  {
   "cell_type": "code",
   "execution_count": 20,
   "id": "5d7254a4-ae82-474c-b93d-2ffded9bc9d4",
   "metadata": {},
   "outputs": [
    {
     "data": {
      "text/plain": [
       "2.0"
      ]
     },
     "execution_count": 20,
     "metadata": {},
     "output_type": "execute_result"
    }
   ],
   "source": [
    "result = user_avg(1,2,3)\n",
    "result"
   ]
  },
  {
   "cell_type": "markdown",
   "id": "3e7e9689-fda9-43f9-952b-eba30a327ee5",
   "metadata": {},
   "source": [
    "# 전역변수 "
   ]
  },
  {
   "cell_type": "code",
   "execution_count": 38,
   "id": "d3cf287e-c751-4cdb-97f9-de4db9ed978b",
   "metadata": {},
   "outputs": [],
   "source": [
    "def user_avg(a,b,c):\n",
    "    avg = (a + b + c) / d\n",
    "    return avg"
   ]
  },
  {
   "cell_type": "code",
   "execution_count": 39,
   "id": "ad95594d-0e5c-4701-a84f-2c68fee937cd",
   "metadata": {},
   "outputs": [
    {
     "data": {
      "text/plain": [
       "0.6"
      ]
     },
     "execution_count": 39,
     "metadata": {},
     "output_type": "execute_result"
    }
   ],
   "source": [
    "d = 10            #전역변수 = 함수 안에서도 사용 가능 \n",
    "user_avg(1,2,3)"
   ]
  },
  {
   "cell_type": "code",
   "execution_count": 57,
   "id": "a9576fd0-01d6-4567-a663-9a52249dacaa",
   "metadata": {},
   "outputs": [],
   "source": [
    "def user_avg(a, b, c):\n",
    "    global avg\n",
    "    avg = (a + b + c) /d"
   ]
  },
  {
   "cell_type": "code",
   "execution_count": 58,
   "id": "218e45ed-c427-470d-b23d-1741857ecd64",
   "metadata": {},
   "outputs": [],
   "source": [
    "user_avg(1,2,3)"
   ]
  },
  {
   "cell_type": "code",
   "execution_count": 59,
   "id": "0d57da30-33fd-43af-84ff-6bf1c2134c7e",
   "metadata": {},
   "outputs": [
    {
     "name": "stdout",
     "output_type": "stream",
     "text": [
      "0.6\n"
     ]
    }
   ],
   "source": [
    "print(avg)"
   ]
  },
  {
   "cell_type": "markdown",
   "id": "207609fe-983a-4d27-bbb9-462b1d4e16e3",
   "metadata": {},
   "source": [
    "# 변수 값의 교환 (swap)"
   ]
  },
  {
   "cell_type": "code",
   "execution_count": 48,
   "id": "69f4d897-cb2b-4ae1-b56f-d9cddfa7b2fc",
   "metadata": {},
   "outputs": [
    {
     "name": "stdout",
     "output_type": "stream",
     "text": [
      "swap 전 na 값: 10 swap 전 nb 값: 20\n",
      "swap 후 na 값: 20 swap 후 nb 값: 20\n"
     ]
    }
   ],
   "source": [
    "na = 10\n",
    "nb = 20\n",
    "print('swap 전 na 값:', na, 'swap 전 nb 값:', nb)\n",
    "\n",
    "na = nb\n",
    "print('swap 후 na 값:', na, 'swap 후 nb 값:', nb)"
   ]
  },
  {
   "cell_type": "code",
   "execution_count": 50,
   "id": "2aea4d08-4b07-447d-8865-7a01bb47a6ad",
   "metadata": {},
   "outputs": [
    {
     "name": "stdout",
     "output_type": "stream",
     "text": [
      "swap 전 na 값: 10 swap 전 nb 값: 20\n",
      "swap 후 na 값: 20 swap 후 nb 값: 10\n"
     ]
    }
   ],
   "source": [
    "na = 10\n",
    "nb = 20\n",
    "\n",
    "print('swap 전 na 값:', na, 'swap 전 nb 값:', nb)\n",
    "temp = na\n",
    "na = nb\n",
    "nb = temp\n",
    "print('swap 후 na 값:', na, 'swap 후 nb 값:', nb)"
   ]
  },
  {
   "cell_type": "code",
   "execution_count": 55,
   "id": "918791df-6f6d-40e6-a85b-26c6f8e1877f",
   "metadata": {},
   "outputs": [
    {
     "name": "stdout",
     "output_type": "stream",
     "text": [
      "swap 전 pa 값: 10 swap 전 nb 값: 20\n",
      "swap 후 na 값: 20 swap 후 nb 값: 10\n"
     ]
    }
   ],
   "source": [
    "na = 10\n",
    "nb = 20\n",
    "def swapa(pa, pb):\n",
    "    temp = pa\n",
    "    pa =pb\n",
    "    pb = temp\n",
    "    return pa, pb\n",
    "\n",
    "print('swap 전 pa 값:', na, 'swap 전 nb 값:', nb)\n",
    "\n",
    "na, nb = swapa(na, nb)\n",
    "print('swap 후 na 값:', na, 'swap 후 nb 값:', nb)"
   ]
  },
  {
   "cell_type": "code",
   "execution_count": 61,
   "id": "8192bcba-f419-4016-a32c-8d84015b9189",
   "metadata": {},
   "outputs": [
    {
     "name": "stdout",
     "output_type": "stream",
     "text": [
      "swap 전 na 값: 10 swap 전 nb 값: 20\n",
      "swap 후 na 값: 20 swap 후 nb 값: 10\n"
     ]
    }
   ],
   "source": [
    "na = 10\n",
    "nb = 20\n",
    "def swapa(pa, pb):\n",
    "    global na, nb\n",
    "    temp = pa\n",
    "    pa =pb\n",
    "    pb = temp\n",
    "    return pa, pb\n",
    "\n",
    "print('swap 전 na 값:', na, 'swap 전 nb 값:', nb)\n",
    "na, nb = swapa(na, nb)\n",
    "print('swap 후 na 값:', na, 'swap 후 nb 값:', nb)"
   ]
  },
  {
   "cell_type": "code",
   "execution_count": 65,
   "id": "4021e57a-d139-4a6d-abfb-e8b9a62a67ef",
   "metadata": {},
   "outputs": [],
   "source": [
    "def persona(width, height):\n",
    "    print('함수 디폴트 값이 없을 때, width = ', width, 'height = ', height)\n",
    "def personb(width=60, height=180):\n",
    "    print('함수 디폴트 값이 있을 때, width = ', width, 'height = ', height)"
   ]
  },
  {
   "cell_type": "code",
   "execution_count": 66,
   "id": "3168c61f-6d05-4447-afc9-0c4d976c09e8",
   "metadata": {},
   "outputs": [
    {
     "name": "stdout",
     "output_type": "stream",
     "text": [
      "함수 디폴트 값이 없을 때, width =  10 height =  20\n"
     ]
    }
   ],
   "source": [
    "persona(10,20)"
   ]
  },
  {
   "cell_type": "code",
   "execution_count": 67,
   "id": "4bf7c46f-a3f2-4f97-b37d-7ad48d94029b",
   "metadata": {},
   "outputs": [
    {
     "name": "stdout",
     "output_type": "stream",
     "text": [
      "함수 디폴트 값이 있을 때, width =  60 height =  180\n"
     ]
    }
   ],
   "source": [
    "personb()"
   ]
  },
  {
   "cell_type": "code",
   "execution_count": 69,
   "id": "d9317754-1abb-4d9a-89f8-a0dc2fbcec70",
   "metadata": {},
   "outputs": [
    {
     "name": "stdout",
     "output_type": "stream",
     "text": [
      "함수 디폴트 값이 있을 때, width =  50 height =  190\n"
     ]
    }
   ],
   "source": [
    "personb(50,190)"
   ]
  },
  {
   "cell_type": "code",
   "execution_count": 70,
   "id": "222be3d5-dbd3-44ed-8d5a-1e63a01a4ab1",
   "metadata": {},
   "outputs": [
    {
     "ename": "SyntaxError",
     "evalue": "invalid syntax (2056284681.py, line 1)",
     "output_type": "error",
     "traceback": [
      "\u001b[1;36m  Cell \u001b[1;32mIn[70], line 1\u001b[1;36m\u001b[0m\n\u001b[1;33m    personb(,180)\u001b[0m\n\u001b[1;37m            ^\u001b[0m\n\u001b[1;31mSyntaxError\u001b[0m\u001b[1;31m:\u001b[0m invalid syntax\n"
     ]
    }
   ],
   "source": [
    "personb(,180)   #파라미터는 순서대로 사용 할 수 있음"
   ]
  },
  {
   "cell_type": "code",
   "execution_count": 71,
   "id": "ec7afd77-ebd1-40e9-b77e-5e01eda56608",
   "metadata": {},
   "outputs": [
    {
     "name": "stdout",
     "output_type": "stream",
     "text": [
      "[0]\n"
     ]
    }
   ],
   "source": [
    "def fget(nums = [0]):\n",
    "    return nums\n",
    "\n",
    "result1 = fget()\n",
    "print(result1)"
   ]
  },
  {
   "cell_type": "code",
   "execution_count": 72,
   "id": "4261bb9a-4963-4983-a67c-659317c2ba14",
   "metadata": {},
   "outputs": [
    {
     "name": "stdout",
     "output_type": "stream",
     "text": [
      "[1, 2, 3, 4, 5]\n"
     ]
    }
   ],
   "source": [
    "result2 = fget([1,2,3,4,5])\n",
    "print(result2)"
   ]
  },
  {
   "cell_type": "code",
   "execution_count": 77,
   "id": "f022f0d7-1f4d-4b78-ac9c-fe0f1538ea68",
   "metadata": {},
   "outputs": [],
   "source": [
    "def fgets(nums = [0]):\n",
    "    for n in nums:\n",
    "        print(n)"
   ]
  },
  {
   "cell_type": "code",
   "execution_count": 78,
   "id": "deaaba5a-2bf9-4e4a-a1df-11e5e1e4ce92",
   "metadata": {},
   "outputs": [
    {
     "name": "stdout",
     "output_type": "stream",
     "text": [
      "0\n"
     ]
    }
   ],
   "source": [
    "fgets()"
   ]
  },
  {
   "cell_type": "code",
   "execution_count": null,
   "id": "8260d6eb-3744-4722-ad36-3a1d79e81f20",
   "metadata": {},
   "outputs": [],
   "source": []
  }
 ],
 "metadata": {
  "kernelspec": {
   "display_name": "Python 3 (ipykernel)",
   "language": "python",
   "name": "python3"
  },
  "language_info": {
   "codemirror_mode": {
    "name": "ipython",
    "version": 3
   },
   "file_extension": ".py",
   "mimetype": "text/x-python",
   "name": "python",
   "nbconvert_exporter": "python",
   "pygments_lexer": "ipython3",
   "version": "3.12.8"
  }
 },
 "nbformat": 4,
 "nbformat_minor": 5
}
